{
  "nbformat": 4,
  "nbformat_minor": 0,
  "metadata": {
    "colab": {
      "name": "captioning.ipynb",
      "provenance": [],
      "collapsed_sections": [],
      "authorship_tag": "ABX9TyNlA+UiaPk2D9Xr5kE19vTi",
      "include_colab_link": true
    },
    "kernelspec": {
      "name": "python3",
      "display_name": "Python 3"
    },
    "language_info": {
      "name": "python"
    },
    "accelerator": "GPU"
  },
  "cells": [
    {
      "cell_type": "markdown",
      "metadata": {
        "id": "view-in-github",
        "colab_type": "text"
      },
      "source": [
        "<a href=\"https://colab.research.google.com/github/SumathiGit/Image-Captioning-Pytorch/blob/main/captioning.ipynb\" target=\"_parent\"><img src=\"https://colab.research.google.com/assets/colab-badge.svg\" alt=\"Open In Colab\"/></a>"
      ]
    },
    {
      "cell_type": "code",
      "metadata": {
        "colab": {
          "base_uri": "https://localhost:8080/"
        },
        "id": "OqoVothwS-4a",
        "outputId": "35f73d6a-2843-4c4f-b9cc-2add66386b66"
      },
      "source": [
        "from google.colab import drive\n",
        "drive.mount('/content/drive')"
      ],
      "execution_count": 1,
      "outputs": [
        {
          "output_type": "stream",
          "text": [
            "Mounted at /content/drive\n"
          ],
          "name": "stdout"
        }
      ]
    },
    {
      "cell_type": "code",
      "metadata": {
        "colab": {
          "base_uri": "https://localhost:8080/"
        },
        "id": "NawNVP4ocgvL",
        "outputId": "5fd4309e-a03e-4b4f-c864-308d5e0a3966"
      },
      "source": [
        "!ls"
      ],
      "execution_count": 2,
      "outputs": [
        {
          "output_type": "stream",
          "text": [
            "drive  sample_data\n"
          ],
          "name": "stdout"
        }
      ]
    },
    {
      "cell_type": "code",
      "metadata": {
        "colab": {
          "base_uri": "https://localhost:8080/"
        },
        "id": "3JL_9-9CTI4x",
        "outputId": "fe7b3641-eff1-4afa-8cec-dbdba0bcb921"
      },
      "source": [
        "cd drive/MyDrive/"
      ],
      "execution_count": 3,
      "outputs": [
        {
          "output_type": "stream",
          "text": [
            "/content/drive/MyDrive\n"
          ],
          "name": "stdout"
        }
      ]
    },
    {
      "cell_type": "code",
      "metadata": {
        "id": "syGwGxHfTI2s"
      },
      "source": [
        "#!git clone --recursive https://github.com/v-iashin/BMT.git"
      ],
      "execution_count": null,
      "outputs": []
    },
    {
      "cell_type": "code",
      "metadata": {
        "id": "yLApoM4DTI0X",
        "colab": {
          "base_uri": "https://localhost:8080/"
        },
        "outputId": "b896f04c-dec0-4756-ae5f-93edbe409683"
      },
      "source": [
        "cd BMT/"
      ],
      "execution_count": 4,
      "outputs": [
        {
          "output_type": "stream",
          "text": [
            "/content/drive/MyDrive/BMT\n"
          ],
          "name": "stdout"
        }
      ]
    },
    {
      "cell_type": "code",
      "metadata": {
        "id": "9CxliNwLTIxw"
      },
      "source": [
        "# !bash ./download_data.sh           #(Download VGG and I3D model and also GloVe embeddings. The script will save them in the ./data and ./.vector_cache folder.)"
      ],
      "execution_count": null,
      "outputs": []
    },
    {
      "cell_type": "code",
      "metadata": {
        "colab": {
          "base_uri": "https://localhost:8080/"
        },
        "id": "xL4g3qN1TIvh",
        "outputId": "41a370a7-e855-469c-a6b7-dca424ea9137"
      },
      "source": [
        "!ls ./data"
      ],
      "execution_count": 5,
      "outputs": [
        {
          "output_type": "stream",
          "text": [
            "available_mp4.txt\t\t     val_1_no_missings.json\n",
            "i3d_25fps_stack64step64_2stream_npy  val_2.csv\n",
            "train.csv\t\t\t     val_2.json\n",
            "train.json\t\t\t     val_2_no_missings.json\n",
            "val_1.csv\t\t\t     vggish_npy.zip\n",
            "val_1.json\n"
          ],
          "name": "stdout"
        }
      ]
    },
    {
      "cell_type": "code",
      "metadata": {
        "id": "shRGVYJhTIs1"
      },
      "source": [
        ""
      ],
      "execution_count": null,
      "outputs": []
    },
    {
      "cell_type": "code",
      "metadata": {
        "id": "XS3fmM_7TIpx",
        "colab": {
          "base_uri": "https://localhost:8080/"
        },
        "outputId": "875e49b6-8640-45cd-d18b-fd2823e39d45"
      },
      "source": [
        "!wget -c https://repo.continuum.io/archive/Anaconda3-5.1.0-Linux-x86_64.sh\n",
        "\n",
        "!chmod +x Anaconda3-5.1.0-Linux-x86_64.sh\n",
        "\n",
        "!bash ./Anaconda3-5.1.0-Linux-x86_64.sh -b -f -p /usr/local"
      ],
      "execution_count": 6,
      "outputs": [
        {
          "output_type": "stream",
          "text": [
            "installing: spyder-3.2.6-py36_0 ...\n",
            "installing: _ipyw_jlab_nb_ext_conf-0.1.0-py36he11e457_0 ...\n",
            "installing: jupyter-1.0.0-py36_4 ...\n",
            "installing: anaconda-5.1.0-py36_2 ...\n",
            "installing: conda-4.4.10-py36_0 ...\n",
            "installing: conda-build-3.4.1-py36_0 ...\n",
            "installation finished.\n",
            "WARNING:\n",
            "    You currently have a PYTHONPATH environment variable set. This may cause\n",
            "    unexpected behavior when running the Python interpreter in Anaconda3.\n",
            "    For best results, please verify that your PYTHONPATH only points to\n",
            "    directories of packages that are compatible with the Python interpreter\n",
            "    in Anaconda3: /usr/local\n"
          ],
          "name": "stdout"
        }
      ]
    },
    {
      "cell_type": "code",
      "metadata": {
        "id": "RTjBEjMfTIm3",
        "colab": {
          "base_uri": "https://localhost:8080/"
        },
        "outputId": "ef34675c-3b68-4c43-d0f3-697378be6363"
      },
      "source": [
        "cd /content/drive/MyDrive/BMT/"
      ],
      "execution_count": 9,
      "outputs": [
        {
          "output_type": "stream",
          "text": [
            "/content/drive/MyDrive/BMT\n"
          ],
          "name": "stdout"
        }
      ]
    },
    {
      "cell_type": "code",
      "metadata": {
        "id": "8KsZciFBTIWR",
        "colab": {
          "base_uri": "https://localhost:8080/"
        },
        "outputId": "67bd368d-df8a-4814-cebf-3cd0335a69cf"
      },
      "source": [
        "!ls"
      ],
      "execution_count": 10,
      "outputs": [
        {
          "output_type": "stream",
          "text": [
            "Anaconda3-5.1.0-Linux-x86_64.sh  datasets\t   loss       sample\n",
            "cctv.mp4\t\t\t download_data.sh  main.py    scripts\n",
            "conda\t\t\t\t epoch_loops\t   model      submodules\n",
            "conda_env.yml\t\t\t evaluation\t   README.md  test\n",
            "data\t\t\t\t LICENSE\t   results    utilities\n"
          ],
          "name": "stdout"
        }
      ]
    },
    {
      "cell_type": "code",
      "metadata": {
        "id": "UdEeBg19TITf"
      },
      "source": [
        "import sys\n",
        "\n",
        "sys.path.append('/usr/local/lib/python3.7/site-packages')"
      ],
      "execution_count": 11,
      "outputs": []
    },
    {
      "cell_type": "code",
      "metadata": {
        "colab": {
          "base_uri": "https://localhost:8080/"
        },
        "id": "dTyP6_yXnCr9",
        "outputId": "aabe5c2c-4778-4a8d-e061-da17ff58d9d4"
      },
      "source": [
        "#!conda upgrade -n base conda"
      ],
      "execution_count": 12,
      "outputs": [
        {
          "output_type": "stream",
          "text": [
            "Solving environment: - \b\b\\ \b\b| \b\b/ \b\b- \b\b\\ \b\b| \b\b/ \b\b- \b\b\\ \b\b| \b\b/ \b\b- \b\b\\ \b\b| \b\b/ \b\b- \b\b\\ \b\b| \b\b/ \b\b- \b\b\\ \b\b| \b\b/ \b\b- \b\b\\ \b\b| \b\b/ \b\b- \b\b\\ \b\b| \b\b/ \b\b- \b\b\\ \b\b| \b\b/ \b\b- \b\b\\ \b\b| \b\b/ \b\b- \b\b\\ \b\b| \b\b/ \b\b- \b\b\\ \b\b| \b\b/ \b\b- \b\b\\ \b\b| \b\b/ \b\b- \b\b\\ \b\b| \b\b/ \b\b- \b\b\\ \b\b| \b\b/ \b\b- \b\b\\ \b\b| \b\b/ \b\b- \b\b\\ \b\b| \b\b/ \b\b- \b\b\\ \b\b| \b\b/ \b\b- \b\b\\ \b\b| \b\b/ \b\b- \b\b\\ \b\b| \b\b/ \b\b- \b\b\\ \b\b| \b\b/ \b\b- \b\b\\ \b\b| \b\b/ \b\b- \b\b\\ \b\b| \b\b/ \b\b- \b\b\\ \b\b| \b\b/ \b\b- \b\b\\ \b\b| \b\b/ \b\b- \b\b\\ \b\b| \b\b/ \b\b- \b\b\\ \b\b| \b\b/ \b\b- \b\b\\ \b\b| \b\b/ \b\b- \b\b\\ \b\b| \b\b/ \b\b- \b\b\\ \b\b| \b\b/ \b\b- \b\b\\ \b\b| \b\b/ \b\b- \b\b\\ \b\b| \b\b/ \b\b- \b\b\\ \b\b| \b\b/ \b\b- \b\b\\ \b\b| \b\b/ \b\b- \b\b\\ \b\b| \b\b/ \b\b- \b\b\\ \b\b| \b\b/ \b\b- \b\b\\ \b\b| \b\b/ \b\b- \b\b\\ \b\b| \b\b/ \b\b- \b\b\\ \b\b| \b\b/ \b\b- \b\b\\ \b\b| \b\b/ \b\b- \b\b\\ \b\b| \b\b/ \b\b- \b\b\\ \b\b| \b\b/ \b\b- \b\b\\ \b\b| \b\b/ \b\b- \b\b\\ \b\b| \b\b/ \b\b- \b\b\\ \b\b| \b\b/ \b\b- \b\b\\ \b\b| \b\b/ \b\b- \b\b\\ \b\b| \b\b/ \b\b- \b\b\\ \b\b| \b\b/ \b\b- \b\b\\ \b\b| \b\b/ \b\b- \b\b\\ \b\b| \b\b/ \b\b- \b\b\\ \b\b| \b\b/ \b\b- \b\b\\ \b\b| \b\b/ \b\b- \b\b\\ \b\b| \b\b/ \b\b- \b\b\\ \b\b| \b\b/ \b\b- \b\b\\ \b\b| \b\b/ \b\b- \b\b\\ \b\b| \b\b/ \b\b- \b\b\\ \b\b| \b\b/ \b\b- \b\b\\ \b\b| \b\b/ \b\b- \b\b\\ \b\b| \b\b/ \b\b- \b\b\\ \b\b| \b\b/ \b\b- \b\b\\ \b\b| \b\b/ \b\b- \b\b\\ \b\b| \b\b/ \b\b- \b\b\\ \b\b| \b\b/ \b\b- \b\b\\ \b\b| \b\b/ \b\b- \b\b\\ \b\b| \b\b/ \b\b- \b\b\\ \b\b| \b\b/ \b\b- \b\b\\ \b\b| \b\b/ \b\b- \b\b\\ \b\b| \b\b/ \b\b- \b\b\\ \b\b| \b\b/ \b\b- \b\b\\ \b\b| \b\b/ \b\b- \b\b\\ \b\b| \b\b/ \b\b- \b\b\\ \b\b| \b\b/ \b\b- \b\b\\ \b\b| \b\b/ \b\b- \b\b\\ \b\b| \b\b/ \b\b- \b\b\\ \b\b| \b\b/ \b\b- \b\b\\ \b\b| \b\b/ \b\b- \b\b\\ \b\b| \b\b/ \b\b- \b\b\\ \b\b| \b\b/ \b\b- \b\b\\ \b\b| \b\b/ \b\b- \b\b\\ \b\b| \b\b/ \b\b- \b\b\\ \b\b| \b\b/ \b\b- \b\b\\ \b\b| \b\b/ \b\b- \b\b\\ \b\b| \b\b/ \b\b- \b\b\\ \b\b| \b\b/ \b\b- \b\b\\ \b\b| \b\b/ \b\b- \b\b\\ \b\b| \b\b/ \b\b- \b\b\\ \b\b| \b\b/ \b\b- \b\b\\ \b\b| \b\b/ \b\b- \b\b\\ \b\b| \b\b/ \b\b- \b\b\\ \b\b| \b\b/ \b\b- \b\b\\ \b\b| \b\b/ \b\b- \b\b\\ \b\b| \b\b/ \b\b- \b\b\\ \b\b| \b\b/ \b\b- \b\b\\ \b\b| \b\b/ \b\b- \b\b\\ \b\b| \b\b/ \b\b- \b\b\\ \b\b| \b\b/ \b\b- \b\b\\ \b\b| \b\b/ \b\b- \b\b\\ \b\b| \b\b/ \b\b- \b\b\\ \b\b| \b\b/ \b\b- \b\b\\ \b\b| \b\b/ \b\b- \b\b\\ \b\b| \b\b/ \b\b- \b\b\\ \b\b| \b\b/ \b\b- \b\b\\ \b\b| \b\b/ \b\b- \b\b\\ \b\b| \b\b/ \b\b- \b\b\\ \b\b| \b\b/ \b\b- \b\b\\ \b\b| \b\b/ \b\b- \b\b\\ \b\b| \b\b/ \b\b- \b\b\\ \b\b| \b\b/ \b\b- \b\b\\ \b\b| \b\b/ \b\b- \b\b\\ \b\b| \b\b/ \b\b- \b\b\\ \b\b| \b\b/ \b\b- \b\b\\ \b\b| \b\b/ \b\b- \b\b\\ \b\b| \b\b/ \b\b- \b\b\\ \b\b| \b\b/ \b\b- \b\b\\ \b\b| \b\b/ \b\b- \b\b\\ \b\b| \b\b/ \b\b- \b\b\\ \b\b| \b\b/ \b\b- \b\b\\ \b\b| \b\b/ \b\b- \b\b\\ \b\b| \b\b/ \b\b- \b\b\\ \b\b| \b\b/ \b\b- \b\b\\ \b\b| \b\b/ \b\b- \b\b\\ \b\b| \b\b/ \b\b- \b\b\\ \b\b| \b\b/ \b\b- \b\b\\ \b\b| \b\b/ \b\b- \b\b\\ \b\b| \b\b/ \b\b- \b\b\\ \b\b| \b\b/ \b\b- \b\b\\ \b\b| \b\b/ \b\b- \b\b\\ \b\b| \b\b/ \b\b- \b\b\\ \b\b| \b\b/ \b\b- \b\b\\ \b\b| \b\b/ \b\b- \b\b\\ \b\b| \b\b/ \b\b- \b\b\\ \b\b| \b\b/ \b\b- \b\b\\ \b\b| \b\b/ \b\b- \b\b\\ \b\b| \b\b/ \b\b- \b\b\\ \b\b| \b\b/ \b\b- \b\b\\ \b\b| \b\b/ \b\b- \b\b\\ \b\b| \b\b/ \b\b- \b\b\\ \b\b| \b\b/ \b\b- \b\b\\ \b\b| \b\b/ \b\b- \b\b\\ \b\b| \b\b/ \b\b- \b\b\\ \b\b| \b\b/ \b\b- \b\b\\ \b\b| \b\b/ \b\b- \b\bdone\n",
            "\n",
            "## Package Plan ##\n",
            "\n",
            "  environment location: /usr/local\n",
            "\n",
            "  added / updated specs: \n",
            "    - conda\n",
            "\n",
            "\n",
            "The following packages will be downloaded:\n",
            "\n",
            "    package                    |            build\n",
            "    ---------------------------|-----------------\n",
            "    tqdm-4.61.2                |     pyhd3eb1b0_1          80 KB\n",
            "    pip-21.1.3                 |   py37h06a4308_0         2.0 MB\n",
            "    certifi-2021.5.30          |   py37h06a4308_0         141 KB\n",
            "    cryptography-2.3.1         |   py37hc365091_0         585 KB\n",
            "    cffi-1.14.6                |   py37h7f8727e_0         224 KB\n",
            "    pyopenssl-19.0.0           |           py37_0          82 KB\n",
            "    python-3.7.0               |       hc3d631a_0        31.7 MB\n",
            "    openssl-1.0.2u             |       h7b6447c_0         3.1 MB\n",
            "    ncurses-6.1                |       hf484d3e_0         943 KB\n",
            "    ruamel_yaml-0.15.100       |   py37h27cfd23_0         267 KB\n",
            "    wheel-0.36.2               |     pyhd3eb1b0_0          31 KB\n",
            "    ca-certificates-2021.7.5   |       h06a4308_1         119 KB\n",
            "    yaml-0.2.5                 |       h7b6447c_0          87 KB\n",
            "    tk-8.6.10                  |       hbc83047_0         3.2 MB\n",
            "    readline-7.0               |       h7b6447c_5         392 KB\n",
            "    pysocks-1.7.1              |           py37_1          27 KB\n",
            "    sqlite-3.31.1              |       h7b6447c_0         2.0 MB\n",
            "    libgcc-ng-9.1.0            |       hdf63c60_0         8.1 MB\n",
            "    urllib3-1.26.6             |     pyhd3eb1b0_1         106 KB\n",
            "    conda-4.10.3               |   py37h06a4308_0         3.1 MB\n",
            "    six-1.16.0                 |     pyhd3eb1b0_0          18 KB\n",
            "    zlib-1.2.11                |       h7b6447c_3         120 KB\n",
            "    pycparser-2.20             |             py_2          94 KB\n",
            "    brotlipy-0.7.0             |py37h27cfd23_1003         350 KB\n",
            "    conda-package-handling-1.7.3|   py37h27cfd23_1         962 KB\n",
            "    setuptools-52.0.0          |   py37h06a4308_0         921 KB\n",
            "    _libgcc_mutex-0.1          |             main           3 KB\n",
            "    libedit-3.1.20181209       |       hc058e9b_0         188 KB\n",
            "    requests-2.25.1            |     pyhd3eb1b0_0          51 KB\n",
            "    xz-5.2.5                   |       h7b6447c_0         438 KB\n",
            "    asn1crypto-1.4.0           |             py_0          77 KB\n",
            "    chardet-4.0.0              |py37h06a4308_1003         205 KB\n",
            "    idna-2.10                  |     pyhd3eb1b0_0          52 KB\n",
            "    pycosat-0.6.3              |   py37h27cfd23_0         108 KB\n",
            "    ------------------------------------------------------------\n",
            "                                           Total:        59.8 MB\n",
            "\n",
            "The following NEW packages will be INSTALLED:\n",
            "\n",
            "    _libgcc_mutex:          0.1-main               \n",
            "    brotlipy:               0.7.0-py37h27cfd23_1003\n",
            "    conda-package-handling: 1.7.3-py37h27cfd23_1   \n",
            "    tqdm:                   4.61.2-pyhd3eb1b0_1    \n",
            "\n",
            "The following packages will be UPDATED:\n",
            "\n",
            "    asn1crypto:             0.24.0-py36_0           --> 1.4.0-py_0              \n",
            "    ca-certificates:        2017.08.26-h1d4fec5_0   --> 2021.7.5-h06a4308_1     \n",
            "    certifi:                2018.1.18-py36_0        --> 2021.5.30-py37h06a4308_0\n",
            "    cffi:                   1.11.4-py36h9745a5d_0   --> 1.14.6-py37h7f8727e_0   \n",
            "    chardet:                3.0.4-py36h0f667ec_1    --> 4.0.0-py37h06a4308_1003 \n",
            "    conda:                  4.4.10-py36_0           --> 4.10.3-py37h06a4308_0   \n",
            "    cryptography:           2.1.4-py36hd09be54_0    --> 2.3.1-py37hc365091_0    \n",
            "    idna:                   2.6-py36h82fb2a8_1      --> 2.10-pyhd3eb1b0_0       \n",
            "    libedit:                3.1-heed3624_0          --> 3.1.20181209-hc058e9b_0 \n",
            "    libgcc-ng:              7.2.0-h7cc24e2_2        --> 9.1.0-hdf63c60_0        \n",
            "    ncurses:                6.0-h9df7e31_2          --> 6.1-hf484d3e_0          \n",
            "    openssl:                1.0.2n-hb7f436b_0       --> 1.0.2u-h7b6447c_0       \n",
            "    pip:                    9.0.1-py36h6c6f9ce_4    --> 21.1.3-py37h06a4308_0   \n",
            "    pycosat:                0.6.3-py36h0a5515d_0    --> 0.6.3-py37h27cfd23_0    \n",
            "    pycparser:              2.18-py36hf9f622e_1     --> 2.20-py_2               \n",
            "    pyopenssl:              17.5.0-py36h20ba746_0   --> 19.0.0-py37_0           \n",
            "    pysocks:                1.6.7-py36hd97a5b1_1    --> 1.7.1-py37_1            \n",
            "    python:                 3.6.4-hc3d631a_1        --> 3.7.0-hc3d631a_0        \n",
            "    readline:               7.0-ha6073c6_4          --> 7.0-h7b6447c_5          \n",
            "    requests:               2.18.4-py36he2e5f8d_1   --> 2.25.1-pyhd3eb1b0_0     \n",
            "    ruamel_yaml:            0.15.35-py36h14c3975_1  --> 0.15.100-py37h27cfd23_0 \n",
            "    setuptools:             38.4.0-py36_0           --> 52.0.0-py37h06a4308_0   \n",
            "    six:                    1.11.0-py36h372c433_1   --> 1.16.0-pyhd3eb1b0_0     \n",
            "    sqlite:                 3.22.0-h1bed415_0       --> 3.31.1-h7b6447c_0       \n",
            "    tk:                     8.6.7-hc745277_3        --> 8.6.10-hbc83047_0       \n",
            "    urllib3:                1.22-py36hbe7ace6_0     --> 1.26.6-pyhd3eb1b0_1     \n",
            "    wheel:                  0.30.0-py36hfd4bba0_1   --> 0.36.2-pyhd3eb1b0_0     \n",
            "    xz:                     5.2.3-h55aa19d_2        --> 5.2.5-h7b6447c_0        \n",
            "    yaml:                   0.1.7-had09818_2        --> 0.2.5-h7b6447c_0        \n",
            "    zlib:                   1.2.11-ha838bed_2       --> 1.2.11-h7b6447c_3       \n",
            "\n",
            "Proceed ([y]/n)? y\n",
            "\n",
            "\n",
            "Downloading and Extracting Packages\n",
            "tqdm 4.61.2: 100% 1.0/1 [00:00<00:00,  7.84it/s]               \n",
            "pip 21.1.3: 100% 1.0/1 [00:01<00:00,  1.09s/it]               \n",
            "certifi 2021.5.30: 100% 1.0/1 [00:00<00:00, 12.95it/s]\n",
            "cryptography 2.3.1: 100% 1.0/1 [00:00<00:00,  2.82it/s]               \n",
            "cffi 1.14.6: 100% 1.0/1 [00:00<00:00,  1.34it/s]               \n",
            "pyopenssl 19.0.0: 100% 1.0/1 [00:00<00:00,  2.86it/s]                \n",
            "python 3.7.0: 100% 1.0/1 [00:09<00:00,  9.04s/it]               \n",
            "openssl 1.0.2u: 100% 1.0/1 [00:01<00:00,  1.13s/it]               \n",
            "ncurses 6.1: 100% 1.0/1 [00:01<00:00,  1.18s/it]               \n",
            "ruamel_yaml 0.15.100: 100% 1.0/1 [00:00<00:00,  6.49it/s]               \n",
            "wheel 0.36.2: 100% 1.0/1 [00:00<00:00, 14.78it/s]\n",
            "ca-certificates 2021.7.5: 100% 1.0/1 [00:00<00:00, 13.90it/s]\n",
            "yaml 0.2.5: 100% 1.0/1 [00:00<00:00, 12.96it/s]\n",
            "tk 8.6.10: 100% 1.0/1 [00:01<00:00,  1.31s/it]               \n",
            "readline 7.0: 100% 1.0/1 [00:00<00:00,  4.72it/s] \n",
            "pysocks 1.7.1: 100% 1.0/1 [00:00<00:00, 18.79it/s]\n",
            "sqlite 3.31.1: 100% 1.0/1 [00:00<00:00,  1.50it/s]               \n",
            "libgcc-ng 9.1.0: 100% 1.0/1 [00:02<00:00,  2.59s/it]              \n",
            "urllib3 1.26.6: 100% 1.0/1 [00:00<00:00,  9.52it/s]               \n",
            "conda 4.10.3: 100% 1.0/1 [00:01<00:00,  1.39s/it]               \n",
            "six 1.16.0: 100% 1.0/1 [00:00<00:00, 16.74it/s]\n",
            "zlib 1.2.11: 100% 1.0/1 [00:00<00:00, 12.19it/s]\n",
            "pycparser 2.20: 100% 1.0/1 [00:00<00:00,  7.90it/s]               \n",
            "brotlipy 0.7.0: 100% 1.0/1 [00:00<00:00,  7.46it/s] \n",
            "conda-package-handling 1.7.3: 100% 1.0/1 [00:00<00:00,  3.16it/s]               \n",
            "setuptools 52.0.0: 100% 1.0/1 [00:00<00:00,  1.93it/s]              \n",
            "_libgcc_mutex 0.1: 100% 1.0/1 [00:00<00:00, 26.24it/s]\n",
            "libedit 3.1.20181209: 100% 1.0/1 [00:00<00:00,  8.28it/s]\n",
            "requests 2.25.1: 100% 1.0/1 [00:00<00:00, 15.51it/s]\n",
            "xz 5.2.5: 100% 1.0/1 [00:00<00:00,  4.25it/s]               \n",
            "asn1crypto 1.4.0: 100% 1.0/1 [00:00<00:00, 13.21it/s]\n",
            "chardet 4.0.0: 100% 1.0/1 [00:00<00:00,  5.86it/s]               \n",
            "idna 2.10: 100% 1.0/1 [00:00<00:00, 16.52it/s]\n",
            "pycosat 0.6.3: 100% 1.0/1 [00:00<00:00, 14.63it/s]\n",
            "Preparing transaction: | \b\b/ \b\b- \b\b\\ \b\bdone\n",
            "Verifying transaction: / \b\b- \b\b\\ \b\b| \b\b/ \b\b- \b\b\\ \b\b| \b\b/ \b\b- \b\b\\ \b\b| \b\b/ \b\b- \b\b\\ \b\b| \b\b/ \b\b- \b\b\\ \b\b| \b\b/ \b\b- \b\b\\ \b\b| \b\b/ \b\b- \b\b\\ \b\b| \b\b/ \b\b- \b\bdone\n",
            "Executing transaction: | \b\b/ \b\b- \b\b\\ \b\b| \b\b/ \b\b- \b\b\\ \b\b| \b\b/ \b\b- \b\b\\ \b\b| \b\b/ \b\b- \b\b\\ \b\b| \b\b/ \b\b- \b\b\\ \b\b| \b\b/ \b\b- \b\b\\ \b\b| \b\b/ \b\b- \b\b\\ \b\b| \b\b/ \b\b- \b\b\\ \b\b| \b\b/ \b\b- \b\b\\ \b\b| \b\b/ \b\b- \b\b\\ \b\b| \b\b/ \b\b- \b\b\\ \b\b| \b\b/ \b\b- \b\b\\ \b\b| \b\b/ \b\b- \b\b\\ \b\b| \b\b/ \b\b- \b\b\\ \b\b| \b\b/ \b\b- \b\b\\ \b\b| \b\b/ \b\b- \b\b\\ \b\b| \b\b/ \b\b- \b\b\\ \b\b| \b\b/ \b\b- \b\b\\ \b\b| \b\b/ \b\b- \b\b\\ \b\b| \b\b/ \b\b- \b\b\\ \b\bdone\n"
          ],
          "name": "stdout"
        }
      ]
    },
    {
      "cell_type": "code",
      "metadata": {
        "id": "DMjW3QqWTIOD",
        "colab": {
          "base_uri": "https://localhost:8080/"
        },
        "outputId": "f98f013e-21ad-4963-c7b8-b9d527fa3622"
      },
      "source": [
        "!conda env create -f ./conda_env.yml"
      ],
      "execution_count": 13,
      "outputs": [
        {
          "output_type": "stream",
          "text": [
            "spacy-2.0.12         | 45.5 MB   | : 100% 1.0/1 [00:15<00:00, 15.14s/it]               \n",
            "ujson-2.0.3          | 47 KB     | : 100% 1.0/1 [00:00<00:00,  3.12it/s]               \n",
            "requests-2.23.0      | 85 KB     | : 100% 1.0/1 [00:00<00:00,  2.89it/s]                \n",
            "libedit-3.1.20181209 | 188 KB    | : 100% 1.0/1 [00:00<00:00,  1.78it/s]\n",
            "_libgcc_mutex-0.1    | 2 KB      | : 100% 1.0/1 [00:00<00:00, 16.61it/s]\n",
            "markdown-3.2.1       | 61 KB     | : 100% 1.0/1 [00:00<00:00, 14.31it/s]\n",
            "mkl_fft-1.0.15       | 154 KB    | : 100% 1.0/1 [00:28<00:00, 28.16s/it]\n",
            "cytoolz-0.9.0.1      | 418 KB    | : 100% 1.0/1 [00:00<00:00,  2.66it/s]                \n",
            "xz-5.2.5             | 438 KB    | : 100% 1.0/1 [00:00<00:00,  6.00it/s]\n",
            "libprotobuf-3.11.4   | 4.8 MB    | : 100% 1.0/1 [00:00<00:00,  1.01it/s]\n",
            "numpy-1.15.4         | 46 KB     | : 100% 1.0/1 [00:00<00:00,  2.66it/s]                \n",
            "libstdcxx-ng-9.1.0   | 4.0 MB    | : 100% 1.0/1 [00:00<00:00,  1.43it/s]               \n",
            "pycparser-2.20       | 89 KB     | : 100% 1.0/1 [00:00<00:00, 11.16it/s]\n",
            "tk-8.6.8             | 3.1 MB    | : 100% 1.0/1 [00:01<00:00,  1.14s/it]\n",
            "Preparing transaction: / \b\b- \b\b\\ \b\b| \b\b/ \b\b- \b\b\\ \b\b| \b\b/ \b\bdone\n",
            "Verifying transaction: \\ \b\b| \b\b/ \b\b- \b\b\\ \b\b| \b\b/ \b\b- \b\b\\ \b\b| \b\b/ \b\b- \b\b\\ \b\b| \b\b/ \b\b- \b\b\\ \b\b| \b\b/ \b\b- \b\b\\ \b\b| \b\b/ \b\b- \b\b\\ \b\b| \b\b/ \b\b- \b\b\\ \b\bdone\n",
            "Executing transaction: / \b\b- \b\b\\ \b\b| \b\b/ \b\b- \b\b\\ \b\b| \b\b/ \b\b- \b\b\\ \b\b| \b\b/ \b\b- \b\b\\ \b\b| \b\b/ \b\b- \b\b\\ \b\b| \b\b/ \b\b- \b\b\\ \b\b| \b\b/ \b\b- \b\b\\ \b\b| \b\b/ \b\b- \b\b\\ \b\b| \b\b/ \b\bdone\n",
            "Installing pip dependencies: \\ \b\b| \b\b/ \b\b- \b\b\\ \b\b| \b\b/ \b\b- \b\b\\ \b\b| \b\b/ \b\b- \b\b\\ \b\b| \b\b/ \b\b- Ran pip subprocess with arguments:\n",
            "['/usr/local/envs/bmt/bin/python', '-m', 'pip', 'install', '-U', '-r', '/content/drive/My Drive/BMT/condaenv.dmvo3dnd.requirements.txt']\n",
            "Pip subprocess output:\n",
            "Collecting torchtext==0.3.1\n",
            "  Downloading torchtext-0.3.1-py3-none-any.whl (62 kB)\n",
            "Requirement already satisfied, skipping upgrade: numpy in /usr/local/envs/bmt/lib/python3.7/site-packages (from torchtext==0.3.1->-r /content/drive/My Drive/BMT/condaenv.dmvo3dnd.requirements.txt (line 1)) (1.15.4)\n",
            "Requirement already satisfied, skipping upgrade: tqdm in /usr/local/envs/bmt/lib/python3.7/site-packages (from torchtext==0.3.1->-r /content/drive/My Drive/BMT/condaenv.dmvo3dnd.requirements.txt (line 1)) (4.46.0)\n",
            "Requirement already satisfied, skipping upgrade: requests in /usr/local/envs/bmt/lib/python3.7/site-packages (from torchtext==0.3.1->-r /content/drive/My Drive/BMT/condaenv.dmvo3dnd.requirements.txt (line 1)) (2.23.0)\n",
            "Requirement already satisfied, skipping upgrade: torch in /usr/local/envs/bmt/lib/python3.7/site-packages (from torchtext==0.3.1->-r /content/drive/My Drive/BMT/condaenv.dmvo3dnd.requirements.txt (line 1)) (1.2.0)\n",
            "Requirement already satisfied, skipping upgrade: chardet<4,>=3.0.2 in /usr/local/envs/bmt/lib/python3.7/site-packages (from requests->torchtext==0.3.1->-r /content/drive/My Drive/BMT/condaenv.dmvo3dnd.requirements.txt (line 1)) (3.0.4)\n",
            "Requirement already satisfied, skipping upgrade: certifi>=2017.4.17 in /usr/local/envs/bmt/lib/python3.7/site-packages (from requests->torchtext==0.3.1->-r /content/drive/My Drive/BMT/condaenv.dmvo3dnd.requirements.txt (line 1)) (2020.4.5.1)\n",
            "Requirement already satisfied, skipping upgrade: urllib3!=1.25.0,!=1.25.1,<1.26,>=1.21.1 in /usr/local/envs/bmt/lib/python3.7/site-packages (from requests->torchtext==0.3.1->-r /content/drive/My Drive/BMT/condaenv.dmvo3dnd.requirements.txt (line 1)) (1.25.8)\n",
            "Requirement already satisfied, skipping upgrade: idna<3,>=2.5 in /usr/local/envs/bmt/lib/python3.7/site-packages (from requests->torchtext==0.3.1->-r /content/drive/My Drive/BMT/condaenv.dmvo3dnd.requirements.txt (line 1)) (2.9)\n",
            "Installing collected packages: torchtext\n",
            "Successfully installed torchtext-0.3.1\n",
            "\n",
            "\b\bdone\n",
            "#\n",
            "# To activate this environment, use\n",
            "#\n",
            "#     $ conda activate bmt\n",
            "#\n",
            "# To deactivate an active environment, use\n",
            "#\n",
            "#     $ conda deactivate\n",
            "\n"
          ],
          "name": "stdout"
        }
      ]
    },
    {
      "cell_type": "code",
      "metadata": {
        "id": "Jakliu7wUtZX",
        "colab": {
          "base_uri": "https://localhost:8080/"
        },
        "outputId": "18869ae5-fb15-4194-9b4d-12dc4236a8ad"
      },
      "source": [
        "%%bash\n",
        "source activate bmt\n",
        "python\n",
        "\n",
        "# python commands are ready to run within your environment\n",
        "import sys\n",
        "print(\"Python version\")\n",
        "print(sys.version)"
      ],
      "execution_count": 14,
      "outputs": [
        {
          "output_type": "stream",
          "text": [
            "Python version\n",
            "3.7.7 (default, Mar 26 2020, 15:48:22) \n",
            "[GCC 7.3.0]\n"
          ],
          "name": "stdout"
        }
      ]
    },
    {
      "cell_type": "code",
      "metadata": {
        "colab": {
          "base_uri": "https://localhost:8080/"
        },
        "id": "BVDjeLiZdrwU",
        "outputId": "6957ea82-d496-48b6-fbbb-faa84eb6b96e"
      },
      "source": [
        "!conda env list"
      ],
      "execution_count": 15,
      "outputs": [
        {
          "output_type": "stream",
          "text": [
            "# conda environments:\n",
            "#\n",
            "base                  *  /usr/local\n",
            "bmt                      /usr/local/envs/bmt\n",
            "\n"
          ],
          "name": "stdout"
        }
      ]
    },
    {
      "cell_type": "code",
      "metadata": {
        "colab": {
          "base_uri": "https://localhost:8080/"
        },
        "id": "-Kj6ruCrCU8p",
        "outputId": "25266c17-315b-465e-fb38-545e18c4d0c9"
      },
      "source": [
        "!conda activate bmt"
      ],
      "execution_count": 16,
      "outputs": [
        {
          "output_type": "stream",
          "text": [
            "\n",
            "CommandNotFoundError: Your shell has not been properly configured to use 'conda activate'.\n",
            "To initialize your shell, run\n",
            "\n",
            "    $ conda init <SHELL_NAME>\n",
            "\n",
            "Currently supported shells are:\n",
            "  - bash\n",
            "  - fish\n",
            "  - tcsh\n",
            "  - xonsh\n",
            "  - zsh\n",
            "  - powershell\n",
            "\n",
            "See 'conda init --help' for more information and options.\n",
            "\n",
            "IMPORTANT: You may need to close and restart your shell after running 'conda init'.\n",
            "\n",
            "\n"
          ],
          "name": "stdout"
        }
      ]
    },
    {
      "cell_type": "code",
      "metadata": {
        "colab": {
          "base_uri": "https://localhost:8080/"
        },
        "id": "0iaRHKixz5Gk",
        "outputId": "91fed372-b612-4cdd-ae2c-404ecae2d8ba"
      },
      "source": [
        "!source activate bmt && conda env list"
      ],
      "execution_count": 17,
      "outputs": [
        {
          "output_type": "stream",
          "text": [
            "# conda environments:\n",
            "#\n",
            "base                     /usr/local\n",
            "bmt                   *  /usr/local/envs/bmt\n",
            "\n"
          ],
          "name": "stdout"
        }
      ]
    },
    {
      "cell_type": "code",
      "metadata": {
        "id": "wIckvsgyU3Wn"
      },
      "source": [
        "#!conda install -c conda-forge spacy (either conda or pip)"
      ],
      "execution_count": null,
      "outputs": []
    },
    {
      "cell_type": "code",
      "metadata": {
        "id": "nJFsbpmLVB6r"
      },
      "source": [
        "!pip install -U pip setuptools wheel\n",
        "!pip install -U spacy"
      ],
      "execution_count": null,
      "outputs": []
    },
    {
      "cell_type": "code",
      "metadata": {
        "id": "mfYuH0NfVFed"
      },
      "source": [
        "!python -m spacy download en_core_web_sm"
      ],
      "execution_count": null,
      "outputs": []
    },
    {
      "cell_type": "code",
      "metadata": {
        "id": "AGG9MI1aWA7O"
      },
      "source": [
        ""
      ],
      "execution_count": null,
      "outputs": []
    },
    {
      "cell_type": "code",
      "metadata": {
        "id": "pBaDZj5zp7kk"
      },
      "source": [
        ""
      ],
      "execution_count": null,
      "outputs": []
    },
    {
      "cell_type": "code",
      "metadata": {
        "id": "RdaY5r4dp7hq"
      },
      "source": [
        ""
      ],
      "execution_count": null,
      "outputs": []
    },
    {
      "cell_type": "code",
      "metadata": {
        "id": "AjALZDdpp7fW"
      },
      "source": [
        ""
      ],
      "execution_count": null,
      "outputs": []
    },
    {
      "cell_type": "code",
      "metadata": {
        "id": "5xMYZfNyTIQv"
      },
      "source": [
        "\"\"\" Video Features \"\"\""
      ],
      "execution_count": null,
      "outputs": []
    },
    {
      "cell_type": "code",
      "metadata": {
        "id": "CdQ_dAfCVGqh",
        "colab": {
          "base_uri": "https://localhost:8080/"
        },
        "outputId": "2d383efd-8160-4823-8ecc-ca0669261087"
      },
      "source": [
        "cd ./submodules/video_features"
      ],
      "execution_count": 20,
      "outputs": [
        {
          "output_type": "stream",
          "text": [
            "/content/drive/My Drive/BMT/submodules/video_features\n"
          ],
          "name": "stdout"
        }
      ]
    },
    {
      "cell_type": "code",
      "metadata": {
        "id": "T71gh7PyVHb6",
        "colab": {
          "base_uri": "https://localhost:8080/"
        },
        "outputId": "e41d4cc5-f080-42ce-9b81-bc31420cbaa3"
      },
      "source": [
        "!conda env create -f conda_env_i3d.yml"
      ],
      "execution_count": 21,
      "outputs": [
        {
          "output_type": "stream",
          "text": [
            "Collecting package metadata (repodata.json): - \b\b\\ \b\b| \b\b/ \b\b- \b\b\\ \b\b| \b\b/ \b\b- \b\b\\ \b\b| \b\b/ \b\b- \b\b\\ \b\b| \b\b/ \b\b- \b\b\\ \b\b| \b\b/ \b\b- \b\b\\ \b\b| \b\b/ \b\b- \b\b\\ \b\b| \b\b/ \b\b- \b\b\\ \b\b| \b\b/ \b\b- \b\b\\ \b\b| \b\b/ \b\b- \b\b\\ \b\b| \b\b/ \b\b- \b\b\\ \b\b| \b\b/ \b\b- \b\b\\ \b\b| \b\b/ \b\b- \b\b\\ \b\b| \b\b/ \b\b- \b\b\\ \b\b| \b\b/ \b\b- \b\b\\ \b\b| \b\b/ \b\b- \b\b\\ \b\b| \b\b/ \b\b- \b\b\\ \b\b| \b\b/ \b\b- \b\b\\ \b\b| \b\b/ \b\b- \b\b\\ \b\b| \b\b/ \b\b- \b\b\\ \b\b| \b\b/ \b\b- \b\b\\ \b\b| \b\b/ \b\b- \b\bdone\n",
            "Solving environment: | \b\b/ \b\b- \b\b\\ \b\b| \b\b/ \b\b- \b\b\\ \b\b| \b\b/ \b\b- \b\b\\ \b\b| \b\b/ \b\b- \b\b\\ \b\b| \b\b/ \b\b- \b\b\\ \b\bdone\n",
            "\n",
            "Downloading and Extracting Packages\n",
            "zlib-1.2.11          | 103 KB    | : 100% 1.0/1 [00:00<00:00,  6.33it/s]\n",
            "ncurses-6.2          | 817 KB    | : 100% 1.0/1 [00:00<00:00,  2.38it/s]\n",
            "ca-certificates-2020 | 125 KB    | : 100% 1.0/1 [00:00<00:00,  7.42it/s]\n",
            "x264-1!152.20180806  | 631 KB    | : 100% 1.0/1 [00:00<00:00,  9.27it/s]\n",
            "flake8-3.8.2         | 134 KB    | : 100% 1.0/1 [00:00<00:00,  2.50it/s]                \n",
            "libtiff-4.1.0        | 447 KB    | : 100% 1.0/1 [00:00<00:00,  9.37it/s]\n",
            "libstdcxx-ng-9.1.0   | 3.1 MB    | : 100% 1.0/1 [00:00<00:00,  4.21it/s]\n",
            "freetype-2.9.1       | 550 KB    | : 100% 1.0/1 [00:00<00:00,  7.72it/s]\n",
            "ffmpeg-4.1.3         | 75.8 MB   | : 100% 1.0/1 [00:10<00:00, 10.75s/it]               \n",
            "olefile-0.46         | 50 KB     | : 100% 1.0/1 [00:00<00:00, 11.50it/s]\n",
            "zstd-1.3.7           | 401 KB    | : 100% 1.0/1 [00:00<00:00,  1.76it/s]\n",
            "gnutls-3.6.5         | 1.6 MB    | : 100% 1.0/1 [00:01<00:00,  1.43s/it]               \n",
            "openssl-1.1.1g       | 2.5 MB    | : 100% 1.0/1 [00:00<00:00,  4.65it/s]\n",
            "libedit-3.1.20181209 | 163 KB    | : 100% 1.0/1 [00:00<00:00,  7.57it/s]\n",
            "nettle-3.4.1         | 5.0 MB    | : 100% 1.0/1 [00:01<00:00,  1.11s/it]               \n",
            "importlib-metadata-1 | 49 KB     | : 100% 1.0/1 [00:00<00:00,  2.80it/s]                \n",
            "mkl_random-1.1.1     | 322 KB    | : 100% 1.0/1 [00:00<00:00,  9.32it/s]\n",
            "zipp-3.1.0           | 10 KB     | : 100% 1.0/1 [00:00<00:00, 25.44it/s]\n",
            "mkl-2020.1           | 129.0 MB  | : 100% 1.0/1 [00:05<00:00,  5.44s/it]               \n",
            "ninja-1.9.0          | 1.2 MB    | : 100% 1.0/1 [00:00<00:00,  5.39it/s]\n",
            "libffi-3.3           | 50 KB     | : 100% 1.0/1 [00:00<00:00,  9.28it/s]\n",
            "pycodestyle-2.6.0    | 43 KB     | : 100% 1.0/1 [00:00<00:00, 11.87it/s]\n",
            "nccl-1.3.5           | 1.3 MB    | : 100% 1.0/1 [00:00<00:00,  3.06it/s]\n",
            "tqdm-4.46.0          | 60 KB     | : 100% 1.0/1 [00:00<00:00,  1.16it/s]\n",
            "autopep8-1.4.4       | 38 KB     | : 100% 1.0/1 [00:00<00:00,  2.67it/s]                \n",
            "libgfortran-ng-7.3.0 | 1006 KB   | : 100% 1.0/1 [00:00<00:00,  5.79it/s]\n",
            "python-3.7.7         | 45.1 MB   | : 100% 1.0/1 [00:06<00:00,  6.82s/it]               \n",
            "pillow-6.1.0         | 586 KB    | : 100% 1.0/1 [00:00<00:00,  1.53it/s]\n",
            "setuptools-46.4.0    | 514 KB    | : 100% 1.0/1 [00:00<00:00,  2.42it/s]\n",
            "pip-20.0.2           | 1.7 MB    | : 100% 1.0/1 [00:00<00:00,  1.66it/s]               \n",
            "pyflakes-2.2.0       | 61 KB     | : 100% 1.0/1 [00:00<00:00,  9.36it/s]\n",
            "lame-3.100           | 323 KB    | : 100% 1.0/1 [00:00<00:00,  8.58it/s]\n",
            "sqlite-3.31.1        | 1.1 MB    | : 100% 1.0/1 [00:00<00:00,  5.11it/s]\n",
            "libpng-1.6.37        | 278 KB    | : 100% 1.0/1 [00:00<00:00,  8.77it/s]\n",
            "readline-8.0         | 356 KB    | : 100% 1.0/1 [00:00<00:00,  5.76it/s]\n",
            "tk-8.6.8             | 2.8 MB    | : 100% 1.0/1 [00:00<00:00,  3.85it/s]\n",
            "rope-0.17.0          | 127 KB    | : 100% 1.0/1 [00:00<00:00,  5.81it/s]\n",
            "h5py-2.8.0           | 910 KB    | : 100% 1.0/1 [00:00<00:00,  6.31it/s]\n",
            "mccabe-0.6.1         | 14 KB     | : 100% 1.0/1 [00:00<00:00, 11.29it/s]\n",
            "cffi-1.14.0          | 224 KB    | : 100% 1.0/1 [00:00<00:00,  2.56it/s]\n",
            "intel-openmp-2020.1  | 780 KB    | : 100% 1.0/1 [00:00<00:00,  8.68it/s]\n",
            "xz-5.2.5             | 341 KB    | : 100% 1.0/1 [00:00<00:00,  6.76it/s]\n",
            "certifi-2020.4.5.1   | 155 KB    | : 100% 1.0/1 [00:00<00:00,  2.53it/s]\n",
            "cudatoolkit-10.0.130 | 261.2 MB  | : 100% 1.0/1 [00:19<00:00, 19.14s/it]               \n",
            "cudnn-7.3.1          | 286.1 MB  | : 100% 1.0/1 [00:41<00:00, 41.44s/it]               \n",
            "hdf5-1.10.2          | 3.8 MB    | : 100% 1.0/1 [00:00<00:00,  4.30it/s]\n",
            "cupy-5.1.0           | 9.3 MB    | : 100% 1.0/1 [00:02<00:00,  2.36s/it]               \n",
            "bzip2-1.0.8          | 78 KB     | : 100% 1.0/1 [00:00<00:00,  9.02it/s]\n",
            "libgcc-ng-9.1.0      | 5.1 MB    | : 100% 1.0/1 [00:00<00:00,  1.79it/s]\n",
            "libiconv-1.15        | 721 KB    | : 100% 1.0/1 [00:00<00:00,  7.72it/s]\n",
            "openh264-1.8.0       | 659 KB    | : 100% 1.0/1 [00:00<00:00,  7.34it/s]\n",
            "fastrlock-0.4        | 29 KB     | : 100% 1.0/1 [00:00<00:00,  2.84it/s]               \n",
            "Preparing transaction: / \b\b- \b\b\\ \b\b| \b\b/ \b\b- \b\b\\ \b\bdone\n",
            "Verifying transaction: / \b\b- \b\b\\ \b\b| \b\b/ \b\b- \b\b\\ \b\b| \b\b/ \b\b- \b\b\\ \b\b| \b\b/ \b\b- \b\b\\ \b\b| \b\b/ \b\b- \b\b\\ \b\b| \b\b/ \b\b- \b\b\\ \b\b| \b\b/ \b\b- \b\b\\ \b\b| \b\b/ \b\b- \b\b\\ \b\b| \b\b/ \b\b- \b\b\\ \b\b| \b\b/ \b\b- \b\b\\ \b\b| \b\b/ \b\b- \b\bdone\n",
            "Executing transaction: | \b\b/ \b\b- \b\b\\ \b\b| \b\b/ \b\b- \b\b\\ \b\b| \b\b/ \b\b- \b\b\\ \b\b| \b\b/ \b\b- \b\b\\ \b\b| \b\b/ \b\b- \b\b\\ \b\b| \b\b/ \b\b- \b\bdone\n",
            "Installing pip dependencies: | \b\b/ \b\b- \b\b\\ \b\b| \b\b/ \b\b- \b\b\\ \b\b| \b\b/ \b\b- \b\b\\ \b\b| \b\b/ \b\b- \b\b\\ \b\b| \b\b/ \b\b- \b\b\\ \b\b| \b\b/ \b\b- \b\b\\ \b\b| \b\b/ \b\b- \b\b\\ \b\b| \b\b/ \b\b- \b\b\\ \b\b| \b\b/ \b\b- \b\b\\ \b\b| \b\b/ \b\b- \b\b\\ \b\b| \b\b/ \b\b- \b\b\\ \b\b| \b\b/ \b\b- \b\b\\ \b\b| \b\b/ Ran pip subprocess with arguments:\n",
            "['/usr/local/envs/i3d/bin/python', '-m', 'pip', 'install', '-U', '-r', '/content/drive/My Drive/BMT/submodules/video_features/condaenv.utfdqgrt.requirements.txt']\n",
            "Pip subprocess output:\n",
            "Collecting opencv-python==4.1.0.25\n",
            "  Downloading opencv_python-4.1.0.25-cp37-cp37m-manylinux1_x86_64.whl (26.6 MB)\n",
            "Requirement already satisfied, skipping upgrade: numpy>=1.14.5 in /usr/local/envs/i3d/lib/python3.7/site-packages (from opencv-python==4.1.0.25->-r /content/drive/My Drive/BMT/submodules/video_features/condaenv.utfdqgrt.requirements.txt (line 1)) (1.15.4)\n",
            "Installing collected packages: opencv-python\n",
            "Successfully installed opencv-python-4.1.0.25\n",
            "\n",
            "\b\bdone\n",
            "#\n",
            "# To activate this environment, use\n",
            "#\n",
            "#     $ conda activate i3d\n",
            "#\n",
            "# To deactivate an active environment, use\n",
            "#\n",
            "#     $ conda deactivate\n",
            "\n"
          ],
          "name": "stdout"
        }
      ]
    },
    {
      "cell_type": "code",
      "metadata": {
        "id": "HJlFX7I7VHZD"
      },
      "source": [
        "%%bash\n",
        "source activate i3d"
      ],
      "execution_count": 22,
      "outputs": []
    },
    {
      "cell_type": "code",
      "metadata": {
        "colab": {
          "base_uri": "https://localhost:8080/"
        },
        "id": "Bf-RTrOz3LDs",
        "outputId": "5bd6f699-19bf-4232-9cb7-36d8b1f19623"
      },
      "source": [
        "!source activate i3d && conda env list"
      ],
      "execution_count": 23,
      "outputs": [
        {
          "output_type": "stream",
          "text": [
            "# conda environments:\n",
            "#\n",
            "base                     /usr/local\n",
            "bmt                      /usr/local/envs/bmt\n",
            "i3d                   *  /usr/local/envs/i3d\n",
            "\n"
          ],
          "name": "stdout"
        }
      ]
    },
    {
      "cell_type": "code",
      "metadata": {
        "id": "-0o6-uVPVHW5",
        "colab": {
          "base_uri": "https://localhost:8080/"
        },
        "outputId": "4a48483a-99fa-40a3-c715-f5aa6b0dfdc4"
      },
      "source": [
        "!ls"
      ],
      "execution_count": 24,
      "outputs": [
        {
          "output_type": "stream",
          "text": [
            "conda_env_i3d.yml     LICENSE  models\t  sample  utils\n",
            "conda_env_vggish.yml  main.py  README.md  tmp\n"
          ],
          "name": "stdout"
        }
      ]
    },
    {
      "cell_type": "code",
      "metadata": {
        "id": "Lb5TF3XsVHVB",
        "colab": {
          "base_uri": "https://localhost:8080/"
        },
        "outputId": "9602b91d-448f-4ccc-d56a-ef13f47eb003"
      },
      "source": [
        "!pip install torchvision"
      ],
      "execution_count": 26,
      "outputs": [
        {
          "output_type": "stream",
          "text": [
            "Collecting torchvision\n",
            "  Downloading torchvision-0.10.0-cp37-cp37m-manylinux1_x86_64.whl (22.1 MB)\n",
            "\u001b[K     |████████████████████████████████| 22.1 MB 1.7 MB/s \n",
            "\u001b[?25hCollecting torch==1.9.0\n",
            "  Downloading torch-1.9.0-cp37-cp37m-manylinux1_x86_64.whl (831.4 MB)\n",
            "\u001b[K     |████████████████████████████████| 831.4 MB 2.7 kB/s \n",
            "\u001b[?25hCollecting pillow>=5.3.0\n",
            "  Downloading Pillow-8.3.1-cp37-cp37m-manylinux_2_5_x86_64.manylinux1_x86_64.whl (3.0 MB)\n",
            "\u001b[K     |████████████████████████████████| 3.0 MB 46.5 MB/s \n",
            "\u001b[?25hRequirement already satisfied: numpy in /usr/local/lib/python3.7/site-packages (from torchvision) (1.21.1)\n",
            "Requirement already satisfied: typing-extensions in /usr/local/lib/python3.7/site-packages (from torch==1.9.0->torchvision) (3.10.0.0)\n",
            "Installing collected packages: torch, pillow, torchvision\n",
            "Successfully installed pillow-8.3.1 torch-1.9.0 torchvision-0.10.0\n",
            "\u001b[33mWARNING: Running pip as the 'root' user can result in broken permissions and conflicting behaviour with the system package manager. It is recommended to use a virtual environment instead: https://pip.pypa.io/warnings/venv\u001b[0m\n"
          ],
          "name": "stdout"
        }
      ]
    },
    {
      "cell_type": "code",
      "metadata": {
        "colab": {
          "base_uri": "https://localhost:8080/"
        },
        "id": "BNvso13fsjZ9",
        "outputId": "6d1690b3-4cf3-4ad6-84dc-1ad8915df285"
      },
      "source": [
        "!pip install torch==0.4.1.post2"
      ],
      "execution_count": 39,
      "outputs": [
        {
          "output_type": "stream",
          "text": [
            "Collecting torch==0.4.1.post2\n",
            "  Downloading torch-0.4.1.post2-cp37-cp37m-manylinux1_x86_64.whl (519.5 MB)\n",
            "\u001b[K     |████████████████████████████████| 519.5 MB 25 kB/s \n",
            "\u001b[?25hInstalling collected packages: torch\n",
            "  Attempting uninstall: torch\n",
            "    Found existing installation: torch 0.4.1\n",
            "    Uninstalling torch-0.4.1:\n",
            "      Successfully uninstalled torch-0.4.1\n",
            "\u001b[31mERROR: pip's dependency resolver does not currently take into account all the packages that are installed. This behaviour is the source of the following dependency conflicts.\n",
            "torchvision 0.10.0 requires torch==1.9.0, but you have torch 0.4.1.post2 which is incompatible.\u001b[0m\n",
            "Successfully installed torch-0.4.1.post2\n",
            "\u001b[33mWARNING: Running pip as the 'root' user can result in broken permissions and conflicting behaviour with the system package manager. It is recommended to use a virtual environment instead: https://pip.pypa.io/warnings/venv\u001b[0m\n"
          ],
          "name": "stdout"
        }
      ]
    },
    {
      "cell_type": "code",
      "metadata": {
        "colab": {
          "base_uri": "https://localhost:8080/"
        },
        "id": "VPEgtCCnvQhW",
        "outputId": "1aa1ac36-1d76-4b21-f230-d5923e6f7183"
      },
      "source": [
        "!pip install opencv-python"
      ],
      "execution_count": 29,
      "outputs": [
        {
          "output_type": "stream",
          "text": [
            "Collecting opencv-python\n",
            "  Downloading opencv_python-4.5.3.56-cp37-cp37m-manylinux2014_x86_64.whl (49.9 MB)\n",
            "\u001b[K     |████████████████████████████████| 49.9 MB 16 kB/s \n",
            "\u001b[?25hRequirement already satisfied: numpy>=1.14.5 in /usr/local/lib/python3.7/site-packages (from opencv-python) (1.21.1)\n",
            "Installing collected packages: opencv-python\n",
            "Successfully installed opencv-python-4.5.3.56\n",
            "\u001b[33mWARNING: Running pip as the 'root' user can result in broken permissions and conflicting behaviour with the system package manager. It is recommended to use a virtual environment instead: https://pip.pypa.io/warnings/venv\u001b[0m\n"
          ],
          "name": "stdout"
        }
      ]
    },
    {
      "cell_type": "code",
      "metadata": {
        "colab": {
          "base_uri": "https://localhost:8080/"
        },
        "id": "3DAY7FCJrupk",
        "outputId": "278e28ce-c85c-4d47-b5cc-5ba78278d09e"
      },
      "source": [
        "!pip install cupy-cuda101"
      ],
      "execution_count": 30,
      "outputs": [
        {
          "output_type": "stream",
          "text": [
            "Collecting cupy-cuda101\n",
            "  Downloading cupy_cuda101-9.2.0-cp37-cp37m-manylinux1_x86_64.whl (60.2 MB)\n",
            "\u001b[K     |████████████████████████████████| 60.2 MB 2.8 kB/s \n",
            "\u001b[?25hCollecting fastrlock>=0.5\n",
            "  Downloading fastrlock-0.6-cp37-cp37m-manylinux1_x86_64.whl (39 kB)\n",
            "Requirement already satisfied: numpy<1.23,>=1.17 in /usr/local/lib/python3.7/site-packages (from cupy-cuda101) (1.21.1)\n",
            "Installing collected packages: fastrlock, cupy-cuda101\n",
            "Successfully installed cupy-cuda101-9.2.0 fastrlock-0.6\n",
            "\u001b[33mWARNING: Running pip as the 'root' user can result in broken permissions and conflicting behaviour with the system package manager. It is recommended to use a virtual environment instead: https://pip.pypa.io/warnings/venv\u001b[0m\n"
          ],
          "name": "stdout"
        }
      ]
    },
    {
      "cell_type": "code",
      "metadata": {
        "colab": {
          "base_uri": "https://localhost:8080/"
        },
        "id": "3rtdAquehVsk",
        "outputId": "f8674af6-2fc2-4bb6-95b0-a37b155adafd"
      },
      "source": [
        "!pip install image"
      ],
      "execution_count": 31,
      "outputs": [
        {
          "output_type": "stream",
          "text": [
            "Collecting image\n",
            "  Downloading image-1.5.33.tar.gz (15 kB)\n",
            "Requirement already satisfied: pillow in /usr/local/lib/python3.7/site-packages (from image) (8.3.1)\n",
            "Collecting django\n",
            "  Downloading Django-3.2.5-py3-none-any.whl (7.9 MB)\n",
            "\u001b[K     |████████████████████████████████| 7.9 MB 4.3 MB/s \n",
            "\u001b[?25hRequirement already satisfied: six in /usr/local/lib/python3.7/site-packages (from image) (1.16.0)\n",
            "Collecting pytz\n",
            "  Downloading pytz-2021.1-py2.py3-none-any.whl (510 kB)\n",
            "\u001b[K     |████████████████████████████████| 510 kB 44.8 MB/s \n",
            "\u001b[?25hCollecting sqlparse>=0.2.2\n",
            "  Downloading sqlparse-0.4.1-py3-none-any.whl (42 kB)\n",
            "\u001b[K     |████████████████████████████████| 42 kB 922 kB/s \n",
            "\u001b[?25hCollecting asgiref<4,>=3.3.2\n",
            "  Downloading asgiref-3.4.1-py3-none-any.whl (25 kB)\n",
            "Requirement already satisfied: typing-extensions in /usr/local/lib/python3.7/site-packages (from asgiref<4,>=3.3.2->django->image) (3.10.0.0)\n",
            "Building wheels for collected packages: image\n",
            "  Building wheel for image (setup.py) ... \u001b[?25l\u001b[?25hdone\n",
            "  Created wheel for image: filename=image-1.5.33-py2.py3-none-any.whl size=19495 sha256=1103c84508b718529681eb1de8d7d3a0449d4e53e4465ff50e58e5199e454a42\n",
            "  Stored in directory: /root/.cache/pip/wheels/56/88/e6/897194cfe8c08a8b9afd881d3bf53d102e13fa39607d721383\n",
            "Successfully built image\n",
            "Installing collected packages: sqlparse, pytz, asgiref, django, image\n",
            "Successfully installed asgiref-3.4.1 django-3.2.5 image-1.5.33 pytz-2021.1 sqlparse-0.4.1\n",
            "\u001b[33mWARNING: Running pip as the 'root' user can result in broken permissions and conflicting behaviour with the system package manager. It is recommended to use a virtual environment instead: https://pip.pypa.io/warnings/venv\u001b[0m\n"
          ],
          "name": "stdout"
        }
      ]
    },
    {
      "cell_type": "code",
      "metadata": {
        "colab": {
          "base_uri": "https://localhost:8080/"
        },
        "id": "FOBhW-ZK7F_d",
        "outputId": "7d9ab03b-001e-4579-a17d-de787b3b9bd1"
      },
      "source": [
        "!pip install numpy==1.15.0 #Reinstalling torch0.4.1.post2 after installing numpy "
      ],
      "execution_count": 38,
      "outputs": [
        {
          "output_type": "stream",
          "text": [
            "Collecting numpy==1.15.0\n",
            "  Downloading numpy-1.15.0-cp37-cp37m-manylinux1_x86_64.whl (13.8 MB)\n",
            "\u001b[K     |████████████████████████████████| 13.8 MB 12 kB/s \n",
            "\u001b[?25hInstalling collected packages: numpy\n",
            "\u001b[31mERROR: pip's dependency resolver does not currently take into account all the packages that are installed. This behaviour is the source of the following dependency conflicts.\n",
            "torchvision 0.10.0 requires torch==1.9.0, but you have torch 0.4.1 which is incompatible.\n",
            "cupy-cuda101 9.2.0 requires numpy<1.23,>=1.17, but you have numpy 1.15.0 which is incompatible.\u001b[0m\n",
            "Successfully installed numpy-1.15.0\n",
            "\u001b[33mWARNING: Running pip as the 'root' user can result in broken permissions and conflicting behaviour with the system package manager. It is recommended to use a virtual environment instead: https://pip.pypa.io/warnings/venv\u001b[0m\n"
          ],
          "name": "stdout"
        }
      ]
    },
    {
      "cell_type": "code",
      "metadata": {
        "colab": {
          "base_uri": "https://localhost:8080/"
        },
        "id": "8XwYOJHHqyul",
        "outputId": "cde40419-d219-4f34-aa25-efbc5948670a"
      },
      "source": [
        "import numpy\n",
        "import torch\n",
        "print(torch.__version__)\n",
        "print(numpy.__version__)\n",
        "print(torch.version.cuda)"
      ],
      "execution_count": 37,
      "outputs": [
        {
          "output_type": "stream",
          "text": [
            "1.9.0+cu102\n",
            "1.19.5\n",
            "10.2\n"
          ],
          "name": "stdout"
        }
      ]
    },
    {
      "cell_type": "code",
      "metadata": {
        "id": "sOw8FsxQVHQx",
        "colab": {
          "base_uri": "https://localhost:8080/"
        },
        "outputId": "83f3a632-da2c-45e2-a5b1-0acd60063c47"
      },
      "source": [
        "!source activate i3d && conda env list\n",
        "!python main.py \\\n",
        "    --feature_type i3d \\\n",
        "    --on_extraction save_numpy \\\n",
        "    --device_ids 0 \\\n",
        "    --extraction_fps 25 \\\n",
        "    --video_paths ../../test/video.mp4 \\\n",
        "    --output_path ../../test/"
      ],
      "execution_count": 40,
      "outputs": [
        {
          "output_type": "stream",
          "text": [
            "# conda environments:\n",
            "#\n",
            "base                     /usr/local\n",
            "bmt                      /usr/local/envs/bmt\n",
            "i3d                   *  /usr/local/envs/i3d\n",
            "\n",
            "Saving features to ../../test/\n",
            "100% 1/1 [00:17<00:00, 17.97s/it]\n"
          ],
          "name": "stdout"
        }
      ]
    },
    {
      "cell_type": "code",
      "metadata": {
        "id": "_SPbucXKWBsu",
        "colab": {
          "base_uri": "https://localhost:8080/",
          "height": 35
        },
        "outputId": "cac4661e-7571-4b67-ff02-891b06cfe493"
      },
      "source": [
        "pwd"
      ],
      "execution_count": 41,
      "outputs": [
        {
          "output_type": "execute_result",
          "data": {
            "application/vnd.google.colaboratory.intrinsic+json": {
              "type": "string"
            },
            "text/plain": [
              "'/content/drive/MyDrive/BMT/submodules/video_features'"
            ]
          },
          "metadata": {
            "tags": []
          },
          "execution_count": 41
        }
      ]
    },
    {
      "cell_type": "code",
      "metadata": {
        "colab": {
          "base_uri": "https://localhost:8080/"
        },
        "id": "OvxpWZSdh_LN",
        "outputId": "dbce8b9a-a1f4-40e3-c3ab-5562cd8e97db"
      },
      "source": [
        "!ls"
      ],
      "execution_count": 42,
      "outputs": [
        {
          "output_type": "stream",
          "text": [
            "conda_env_i3d.yml     LICENSE  models\t  sample  utils\n",
            "conda_env_vggish.yml  main.py  README.md  tmp\n"
          ],
          "name": "stdout"
        }
      ]
    },
    {
      "cell_type": "code",
      "metadata": {
        "colab": {
          "base_uri": "https://localhost:8080/"
        },
        "id": "5lJ89wNpiBIf",
        "outputId": "ba085705-ad88-49b2-9272-52bd83979d5c"
      },
      "source": [
        "cd /usr/local/lib/"
      ],
      "execution_count": 43,
      "outputs": [
        {
          "output_type": "stream",
          "text": [
            "/usr/local/lib\n"
          ],
          "name": "stdout"
        }
      ]
    },
    {
      "cell_type": "code",
      "metadata": {
        "colab": {
          "base_uri": "https://localhost:8080/"
        },
        "id": "OkHeMvlniEkU",
        "outputId": "8b90d430-aa35-4d38-8685-f7106092a52a"
      },
      "source": [
        "!ls"
      ],
      "execution_count": 44,
      "outputs": [
        {
          "output_type": "stream",
          "text": [
            "cairo\t\t\t\t\t   libqgsttools_p.so.1.0.0\n",
            "cmake\t\t\t\t\t   libQt5Bluetooth.la\n",
            "dbus-1.0\t\t\t\t   libQt5Bluetooth.prl\n",
            "engines\t\t\t\t\t   libQt5Bluetooth.so\n",
            "girepository-1.0\t\t\t   libQt5Bluetooth.so.5\n",
            "glib-2.0\t\t\t\t   libQt5Bluetooth.so.5.6\n",
            "gstreamer-1.0\t\t\t\t   libQt5Bluetooth.so.5.6.2\n",
            "icu\t\t\t\t\t   libQt5Bootstrap.a\n",
            "itcl4.2.0\t\t\t\t   libQt5Bootstrap.la\n",
            "libasan.so\t\t\t\t   libQt5Bootstrap.prl\n",
            "libasan.so.5\t\t\t\t   libQt5CLucene.la\n",
            "libasan.so.5.0.0\t\t\t   libQt5CLucene.prl\n",
            "libatomic.so\t\t\t\t   libQt5CLucene.so\n",
            "libatomic.so.1\t\t\t\t   libQt5CLucene.so.5\n",
            "libatomic.so.1.2.0\t\t\t   libQt5CLucene.so.5.6\n",
            "libbz2.a\t\t\t\t   libQt5CLucene.so.5.6.2\n",
            "libbz2.so\t\t\t\t   libQt5Concurrent.la\n",
            "libbz2.so.1.0\t\t\t\t   libQt5Concurrent.prl\n",
            "libbz2.so.1.0.6\t\t\t\t   libQt5Concurrent.so\n",
            "libcairo.a\t\t\t\t   libQt5Concurrent.so.5\n",
            "libcairo-gobject.a\t\t\t   libQt5Concurrent.so.5.6\n",
            "libcairo-gobject.la\t\t\t   libQt5Concurrent.so.5.6.2\n",
            "libcairo-gobject.so\t\t\t   libQt5Core.la\n",
            "libcairo-gobject.so.2\t\t\t   libQt5Core.prl\n",
            "libcairo-gobject.so.2.11400.12\t\t   libQt5Core.so\n",
            "libcairo.la\t\t\t\t   libQt5Core.so.5\n",
            "libcairo-script-interpreter.a\t\t   libQt5Core.so.5.6\n",
            "libcairo-script-interpreter.la\t\t   libQt5Core.so.5.6.2\n",
            "libcairo-script-interpreter.so\t\t   libQt5DBus.la\n",
            "libcairo-script-interpreter.so.2\t   libQt5DBus.prl\n",
            "libcairo-script-interpreter.so.2.11400.12  libQt5DBus.so\n",
            "libcairo.so\t\t\t\t   libQt5DBus.so.5\n",
            "libcairo.so.2\t\t\t\t   libQt5DBus.so.5.6\n",
            "libcairo.so.2.11400.12\t\t\t   libQt5DBus.so.5.6.2\n",
            "libcrypto.a\t\t\t\t   libQt5DesignerComponents.la\n",
            "libcrypto.so\t\t\t\t   libQt5DesignerComponents.prl\n",
            "libcrypto.so.1.0.0\t\t\t   libQt5DesignerComponents.so\n",
            "libcurl.a\t\t\t\t   libQt5DesignerComponents.so.5\n",
            "libcurl.la\t\t\t\t   libQt5DesignerComponents.so.5.6\n",
            "libcurl.so\t\t\t\t   libQt5DesignerComponents.so.5.6.2\n",
            "libcurl.so.4\t\t\t\t   libQt5Designer.la\n",
            "libcurl.so.4.5.0\t\t\t   libQt5Designer.prl\n",
            "libdbus-1.a\t\t\t\t   libQt5Designer.so\n",
            "libdbus-1.la\t\t\t\t   libQt5Designer.so.5\n",
            "libdbus-1.so\t\t\t\t   libQt5Designer.so.5.6\n",
            "libdbus-1.so.3\t\t\t\t   libQt5Designer.so.5.6.2\n",
            "libdbus-1.so.3.19.4\t\t\t   libQt5Gui.la\n",
            "libdynlib1.la\t\t\t\t   libQt5Gui.prl\n",
            "libdynlib1.so\t\t\t\t   libQt5Gui.so\n",
            "libdynlib2.la\t\t\t\t   libQt5Gui.so.5\n",
            "libdynlib2.so\t\t\t\t   libQt5Gui.so.5.6\n",
            "libdynlib3.la\t\t\t\t   libQt5Gui.so.5.6.2\n",
            "libdynlib3.so\t\t\t\t   libQt5Help.la\n",
            "libdynlib4.la\t\t\t\t   libQt5Help.prl\n",
            "libdynlib4.so\t\t\t\t   libQt5Help.so\n",
            "libdynlibadd.la\t\t\t\t   libQt5Help.so.5\n",
            "libdynlibadd.so\t\t\t\t   libQt5Help.so.5.6\n",
            "libdynlibdiff.la\t\t\t   libQt5Help.so.5.6.2\n",
            "libdynlibdiff.so\t\t\t   libQt5Multimedia.la\n",
            "libdynlibdump.la\t\t\t   libQt5Multimedia.prl\n",
            "libdynlibdump.so\t\t\t   libQt5MultimediaQuick_p.la\n",
            "libdynlibls.la\t\t\t\t   libQt5MultimediaQuick_p.prl\n",
            "libdynlibls.so\t\t\t\t   libQt5MultimediaQuick_p.so\n",
            "libdynlibvers.la\t\t\t   libQt5MultimediaQuick_p.so.5\n",
            "libdynlibvers.so\t\t\t   libQt5MultimediaQuick_p.so.5.6\n",
            "libedit.a\t\t\t\t   libQt5MultimediaQuick_p.so.5.6.2\n",
            "libedit.so\t\t\t\t   libQt5Multimedia.so\n",
            "libedit.so.0\t\t\t\t   libQt5Multimedia.so.5\n",
            "libedit.so.0.0.59\t\t\t   libQt5Multimedia.so.5.6\n",
            "libexpat.a\t\t\t\t   libQt5Multimedia.so.5.6.2\n",
            "libexpat.la\t\t\t\t   libQt5MultimediaWidgets.la\n",
            "libexpat.so\t\t\t\t   libQt5MultimediaWidgets.prl\n",
            "libexpat.so.1\t\t\t\t   libQt5MultimediaWidgets.so\n",
            "libexpat.so.1.6.7\t\t\t   libQt5MultimediaWidgets.so.5\n",
            "libexslt.a\t\t\t\t   libQt5MultimediaWidgets.so.5.6\n",
            "libexslt.la\t\t\t\t   libQt5MultimediaWidgets.so.5.6.2\n",
            "libexslt.so\t\t\t\t   libQt5Network.la\n",
            "libexslt.so.0\t\t\t\t   libQt5Network.prl\n",
            "libexslt.so.0.8.20\t\t\t   libQt5Network.so\n",
            "libffi.a\t\t\t\t   libQt5Network.so.5\n",
            "libffi.la\t\t\t\t   libQt5Network.so.5.6\n",
            "libffi.so\t\t\t\t   libQt5Network.so.5.6.2\n",
            "libffi.so.6\t\t\t\t   libQt5Nfc.la\n",
            "libffi.so.6.0.4\t\t\t\t   libQt5Nfc.prl\n",
            "libfontconfig.a\t\t\t\t   libQt5Nfc.so\n",
            "libfontconfig.la\t\t\t   libQt5Nfc.so.5\n",
            "libfontconfig.so\t\t\t   libQt5Nfc.so.5.6\n",
            "libfontconfig.so.1\t\t\t   libQt5Nfc.so.5.6.2\n",
            "libfontconfig.so.1.9.4\t\t\t   libQt5OpenGLExtensions.a\n",
            "libform.a\t\t\t\t   libQt5OpenGLExtensions.la\n",
            "libform.so\t\t\t\t   libQt5OpenGLExtensions.prl\n",
            "libformw.a\t\t\t\t   libQt5OpenGL.la\n",
            "libformw.so\t\t\t\t   libQt5OpenGL.prl\n",
            "libformw.so.6\t\t\t\t   libQt5OpenGL.so\n",
            "libformw.so.6.1\t\t\t\t   libQt5OpenGL.so.5\n",
            "libfreetype.a\t\t\t\t   libQt5OpenGL.so.5.6\n",
            "libfreetype.la\t\t\t\t   libQt5OpenGL.so.5.6.2\n",
            "libfreetype.so\t\t\t\t   libQt5PlatformSupport.a\n",
            "libfreetype.so.6\t\t\t   libQt5PlatformSupport.la\n",
            "libfreetype.so.6.14.0\t\t\t   libQt5PlatformSupport.prl\n",
            "libgcc_s.so\t\t\t\t   libQt5PrintSupport.la\n",
            "libgcc_s.so.1\t\t\t\t   libQt5PrintSupport.prl\n",
            "libgfortran.so\t\t\t\t   libQt5PrintSupport.so\n",
            "libgfortran.so.4\t\t\t   libQt5PrintSupport.so.5\n",
            "libgfortran.so.4.0.0\t\t\t   libQt5PrintSupport.so.5.6\n",
            "libgio-2.0.la\t\t\t\t   libQt5PrintSupport.so.5.6.2\n",
            "libgio-2.0.so\t\t\t\t   libQt5QmlDevTools.a\n",
            "libgio-2.0.so.0\t\t\t\t   libQt5QmlDevTools.la\n",
            "libgio-2.0.so.0.5306.0\t\t\t   libQt5QmlDevTools.prl\n",
            "libglib-2.0.la\t\t\t\t   libQt5Qml.la\n",
            "libglib-2.0.so\t\t\t\t   libQt5Qml.prl\n",
            "libglib-2.0.so.0\t\t\t   libQt5Qml.so\n",
            "libglib-2.0.so.0.5306.0\t\t\t   libQt5Qml.so.5\n",
            "libgmodule-2.0.la\t\t\t   libQt5Qml.so.5.6\n",
            "libgmodule-2.0.so\t\t\t   libQt5Qml.so.5.6.2\n",
            "libgmodule-2.0.so.0\t\t\t   libQt5Quick.la\n",
            "libgmodule-2.0.so.0.5306.0\t\t   libQt5QuickParticles.la\n",
            "libgmp.a\t\t\t\t   libQt5QuickParticles.prl\n",
            "libgmp.la\t\t\t\t   libQt5QuickParticles.so\n",
            "libgmp.so\t\t\t\t   libQt5QuickParticles.so.5\n",
            "libgmp.so.10\t\t\t\t   libQt5QuickParticles.so.5.6\n",
            "libgmp.so.10.3.2\t\t\t   libQt5QuickParticles.so.5.6.2\n",
            "libgmpxx.a\t\t\t\t   libQt5Quick.prl\n",
            "libgmpxx.la\t\t\t\t   libQt5Quick.so\n",
            "libgmpxx.so\t\t\t\t   libQt5Quick.so.5\n",
            "libgmpxx.so.4\t\t\t\t   libQt5Quick.so.5.6\n",
            "libgmpxx.so.4.5.2\t\t\t   libQt5Quick.so.5.6.2\n",
            "libgobject-2.0.la\t\t\t   libQt5QuickTest.la\n",
            "libgobject-2.0.so\t\t\t   libQt5QuickTest.prl\n",
            "libgobject-2.0.so.0\t\t\t   libQt5QuickTest.so\n",
            "libgobject-2.0.so.0.5306.0\t\t   libQt5QuickTest.so.5\n",
            "libgomp.so\t\t\t\t   libQt5QuickTest.so.5.6\n",
            "libgomp.so.1\t\t\t\t   libQt5QuickTest.so.5.6.2\n",
            "libgomp.so.1.0.0\t\t\t   libQt5QuickWidgets.la\n",
            "libgraphite2.so\t\t\t\t   libQt5QuickWidgets.prl\n",
            "libgraphite2.so.3\t\t\t   libQt5QuickWidgets.so\n",
            "libgraphite2.so.3.0.1\t\t\t   libQt5QuickWidgets.so.5\n",
            "libgstallocators-1.0.la\t\t\t   libQt5QuickWidgets.so.5.6\n",
            "libgstallocators-1.0.so\t\t\t   libQt5QuickWidgets.so.5.6.2\n",
            "libgstallocators-1.0.so.0\t\t   libQt5Script.la\n",
            "libgstallocators-1.0.so.0.1204.0\t   libQt5Script.prl\n",
            "libgstapp-1.0.la\t\t\t   libQt5Script.so\n",
            "libgstapp-1.0.so\t\t\t   libQt5Script.so.5\n",
            "libgstapp-1.0.so.0\t\t\t   libQt5Script.so.5.6\n",
            "libgstapp-1.0.so.0.1204.0\t\t   libQt5Script.so.5.6.2\n",
            "libgstaudio-1.0.la\t\t\t   libQt5ScriptTools.la\n",
            "libgstaudio-1.0.so\t\t\t   libQt5ScriptTools.prl\n",
            "libgstaudio-1.0.so.0\t\t\t   libQt5ScriptTools.so\n",
            "libgstaudio-1.0.so.0.1204.0\t\t   libQt5ScriptTools.so.5\n",
            "libgstbase-1.0.la\t\t\t   libQt5ScriptTools.so.5.6\n",
            "libgstbase-1.0.so\t\t\t   libQt5ScriptTools.so.5.6.2\n",
            "libgstbase-1.0.so.0\t\t\t   libQt5Sql.la\n",
            "libgstbase-1.0.so.0.1204.0\t\t   libQt5Sql.prl\n",
            "libgstcheck-1.0.la\t\t\t   libQt5Sql.so\n",
            "libgstcheck-1.0.so\t\t\t   libQt5Sql.so.5\n",
            "libgstcheck-1.0.so.0\t\t\t   libQt5Sql.so.5.6\n",
            "libgstcheck-1.0.so.0.1204.0\t\t   libQt5Sql.so.5.6.2\n",
            "libgstcontroller-1.0.la\t\t\t   libQt5Svg.la\n",
            "libgstcontroller-1.0.so\t\t\t   libQt5Svg.prl\n",
            "libgstcontroller-1.0.so.0\t\t   libQt5Svg.so\n",
            "libgstcontroller-1.0.so.0.1204.0\t   libQt5Svg.so.5\n",
            "libgstfft-1.0.la\t\t\t   libQt5Svg.so.5.6\n",
            "libgstfft-1.0.so\t\t\t   libQt5Svg.so.5.6.2\n",
            "libgstfft-1.0.so.0\t\t\t   libQt5Test.la\n",
            "libgstfft-1.0.so.0.1204.0\t\t   libQt5Test.prl\n",
            "libgstnet-1.0.la\t\t\t   libQt5Test.so\n",
            "libgstnet-1.0.so\t\t\t   libQt5Test.so.5\n",
            "libgstnet-1.0.so.0\t\t\t   libQt5Test.so.5.6\n",
            "libgstnet-1.0.so.0.1204.0\t\t   libQt5Test.so.5.6.2\n",
            "libgstpbutils-1.0.la\t\t\t   libQt5UiTools.a\n",
            "libgstpbutils-1.0.so\t\t\t   libQt5UiTools.la\n",
            "libgstpbutils-1.0.so.0\t\t\t   libQt5UiTools.prl\n",
            "libgstpbutils-1.0.so.0.1204.0\t\t   libQt5WebChannel.la\n",
            "libgstreamer-1.0.la\t\t\t   libQt5WebChannel.prl\n",
            "libgstreamer-1.0.so\t\t\t   libQt5WebChannel.so\n",
            "libgstreamer-1.0.so.0\t\t\t   libQt5WebChannel.so.5\n",
            "libgstreamer-1.0.so.0.1204.0\t\t   libQt5WebChannel.so.5.6\n",
            "libgstriff-1.0.la\t\t\t   libQt5WebChannel.so.5.6.2\n",
            "libgstriff-1.0.so\t\t\t   libQt5WebKit.la\n",
            "libgstriff-1.0.so.0\t\t\t   libQt5WebKit.prl\n",
            "libgstriff-1.0.so.0.1204.0\t\t   libQt5WebKit.so\n",
            "libgstrtp-1.0.la\t\t\t   libQt5WebKit.so.5\n",
            "libgstrtp-1.0.so\t\t\t   libQt5WebKit.so.5.6\n",
            "libgstrtp-1.0.so.0\t\t\t   libQt5WebKit.so.5.6.2\n",
            "libgstrtp-1.0.so.0.1204.0\t\t   libQt5WebKitWidgets.la\n",
            "libgstrtsp-1.0.la\t\t\t   libQt5WebKitWidgets.prl\n",
            "libgstrtsp-1.0.so\t\t\t   libQt5WebKitWidgets.so\n",
            "libgstrtsp-1.0.so.0\t\t\t   libQt5WebKitWidgets.so.5\n",
            "libgstrtsp-1.0.so.0.1204.0\t\t   libQt5WebKitWidgets.so.5.6\n",
            "libgstsdp-1.0.la\t\t\t   libQt5WebKitWidgets.so.5.6.2\n",
            "libgstsdp-1.0.so\t\t\t   libQt5WebSockets.la\n",
            "libgstsdp-1.0.so.0\t\t\t   libQt5WebSockets.prl\n",
            "libgstsdp-1.0.so.0.1204.0\t\t   libQt5WebSockets.so\n",
            "libgsttag-1.0.la\t\t\t   libQt5WebSockets.so.5\n",
            "libgsttag-1.0.so\t\t\t   libQt5WebSockets.so.5.6\n",
            "libgsttag-1.0.so.0\t\t\t   libQt5WebSockets.so.5.6.2\n",
            "libgsttag-1.0.so.0.1204.0\t\t   libQt5Widgets.la\n",
            "libgstvideo-1.0.la\t\t\t   libQt5Widgets.prl\n",
            "libgstvideo-1.0.so\t\t\t   libQt5Widgets.so\n",
            "libgstvideo-1.0.so.0\t\t\t   libQt5Widgets.so.5\n",
            "libgstvideo-1.0.so.0.1204.0\t\t   libQt5Widgets.so.5.6\n",
            "libgthread-2.0.la\t\t\t   libQt5Widgets.so.5.6.2\n",
            "libgthread-2.0.so\t\t\t   libQt5X11Extras.la\n",
            "libgthread-2.0.so.0\t\t\t   libQt5X11Extras.prl\n",
            "libgthread-2.0.so.0.5306.0\t\t   libQt5X11Extras.so\n",
            "libharfbuzz.a\t\t\t\t   libQt5X11Extras.so.5\n",
            "libharfbuzz-gobject.a\t\t\t   libQt5X11Extras.so.5.6\n",
            "libharfbuzz-gobject.la\t\t\t   libQt5X11Extras.so.5.6.2\n",
            "libharfbuzz-gobject.so\t\t\t   libQt5XcbQpa.la\n",
            "libharfbuzz-gobject.so.0\t\t   libQt5XcbQpa.prl\n",
            "libharfbuzz-gobject.so.0.10704.0\t   libQt5XcbQpa.so\n",
            "libharfbuzz-icu.a\t\t\t   libQt5XcbQpa.so.5\n",
            "libharfbuzz-icu.la\t\t\t   libQt5XcbQpa.so.5.6\n",
            "libharfbuzz-icu.so\t\t\t   libQt5XcbQpa.so.5.6.2\n",
            "libharfbuzz-icu.so.0\t\t\t   libQt5Xml.la\n",
            "libharfbuzz-icu.so.0.10704.0\t\t   libQt5XmlPatterns.la\n",
            "libharfbuzz.la\t\t\t\t   libQt5XmlPatterns.prl\n",
            "libharfbuzz.so\t\t\t\t   libQt5XmlPatterns.so\n",
            "libharfbuzz.so.0\t\t\t   libQt5XmlPatterns.so.5\n",
            "libharfbuzz.so.0.10704.0\t\t   libQt5XmlPatterns.so.5.6\n",
            "libhdf5.a\t\t\t\t   libQt5XmlPatterns.so.5.6.2\n",
            "libhdf5_cpp.a\t\t\t\t   libQt5Xml.prl\n",
            "libhdf5_cpp.la\t\t\t\t   libQt5Xml.so\n",
            "libhdf5_cpp.so\t\t\t\t   libQt5Xml.so.5\n",
            "libhdf5_cpp.so.101\t\t\t   libQt5Xml.so.5.6\n",
            "libhdf5_cpp.so.101.0.0\t\t\t   libQt5Xml.so.5.6.2\n",
            "libhdf5_fortran.a\t\t\t   libquadmath.so\n",
            "libhdf5_fortran.la\t\t\t   libquadmath.so.0\n",
            "libhdf5_fortran.so\t\t\t   libquadmath.so.0.0.0\n",
            "libhdf5_fortran.so.100\t\t\t   libreadline.a\n",
            "libhdf5_fortran.so.100.1.0\t\t   libreadline.so\n",
            "libhdf5_hl.a\t\t\t\t   libreadline.so.7\n",
            "libhdf5_hl_cpp.a\t\t\t   libreadline.so.7.0\n",
            "libhdf5_hl_cpp.la\t\t\t   libsodium.a\n",
            "libhdf5_hl_cpp.so\t\t\t   libsodium.la\n",
            "libhdf5_hl_cpp.so.100\t\t\t   libsodium.so\n",
            "libhdf5_hl_cpp.so.100.1.0\t\t   libsodium.so.23\n",
            "libhdf5hl_fortran.a\t\t\t   libsodium.so.23.0.0\n",
            "libhdf5hl_fortran.la\t\t\t   libsqlite3.a\n",
            "libhdf5hl_fortran.so\t\t\t   libsqlite3.so\n",
            "libhdf5hl_fortran.so.100\t\t   libsqlite3.so.0\n",
            "libhdf5hl_fortran.so.100.0.1\t\t   libsqlite3.so.0.8.6\n",
            "libhdf5_hl.la\t\t\t\t   libssh2.a\n",
            "libhdf5_hl.so\t\t\t\t   libssh2.so\n",
            "libhdf5_hl.so.100\t\t\t   libssh2.so.1\n",
            "libhdf5_hl.so.100.0.1\t\t\t   libssh2.so.1.0.1\n",
            "libhdf5.la\t\t\t\t   libssl.a\n",
            "libhdf5.settings\t\t\t   libssl.so\n",
            "libhdf5.so\t\t\t\t   libssl.so.1.0.0\n",
            "libhdf5.so.101\t\t\t\t   libstdc++.so\n",
            "libhdf5.so.101.0.0\t\t\t   libstdc++.so.6\n",
            "libhistory.a\t\t\t\t   libstdc++.so.6.0.24\n",
            "libhistory.so\t\t\t\t   libtcl8.6.so\n",
            "libhistory.so.7\t\t\t\t   libtcl.so\n",
            "libhistory.so.7.0\t\t\t   libtclstub8.6.a\n",
            "libicudata.a\t\t\t\t   libtiff.a\n",
            "libicudata.so\t\t\t\t   libtiff.la\n",
            "libicudata.so.58\t\t\t   libtiff.so\n",
            "libicudata.so.58.2\t\t\t   libtiff.so.5\n",
            "libicui18n.a\t\t\t\t   libtiff.so.5.3.0\n",
            "libicui18n.so\t\t\t\t   libtiffxx.a\n",
            "libicui18n.so.58\t\t\t   libtiffxx.la\n",
            "libicui18n.so.58.2\t\t\t   libtiffxx.so\n",
            "libicuio.a\t\t\t\t   libtiffxx.so.5\n",
            "libicuio.so\t\t\t\t   libtiffxx.so.5.3.0\n",
            "libicuio.so.58\t\t\t\t   libtinfo.a\n",
            "libicuio.so.58.2\t\t\t   libtinfo.so\n",
            "libicutest.a\t\t\t\t   libtinfow.a\n",
            "libicutest.so\t\t\t\t   libtinfow.so\n",
            "libicutest.so.58\t\t\t   libtinfow.so.6\n",
            "libicutest.so.58.2\t\t\t   libtinfow.so.6.1\n",
            "libicutu.a\t\t\t\t   libtk8.6.so\n",
            "libicutu.so\t\t\t\t   libtk.so\n",
            "libicutu.so.58\t\t\t\t   libtkstub8.6.a\n",
            "libicutu.so.58.2\t\t\t   libtsan.so\n",
            "libicuuc.a\t\t\t\t   libtsan.so.0\n",
            "libicuuc.so\t\t\t\t   libtsan.so.0.0.0\n",
            "libicuuc.so.58\t\t\t\t   libubsan.so\n",
            "libicuuc.so.58.2\t\t\t   libubsan.so.1\n",
            "libiomp5_db.so\t\t\t\t   libubsan.so.1.0.0\n",
            "libiomp5.so\t\t\t\t   libxcb.a\n",
            "libiompstubs5.so\t\t\t   libxcb-composite.a\n",
            "libitm.so\t\t\t\t   libxcb-composite.la\n",
            "libitm.so.1\t\t\t\t   libxcb-composite.so\n",
            "libitm.so.1.0.0\t\t\t\t   libxcb-composite.so.0\n",
            "libjbig85.a\t\t\t\t   libxcb-composite.so.0.0.0\n",
            "libjbig.a\t\t\t\t   libxcb-damage.a\n",
            "libjpeg.a\t\t\t\t   libxcb-damage.la\n",
            "libjpeg.la\t\t\t\t   libxcb-damage.so\n",
            "libjpeg.so\t\t\t\t   libxcb-damage.so.0\n",
            "libjpeg.so.9\t\t\t\t   libxcb-damage.so.0.0.0\n",
            "libjpeg.so.9.2.0\t\t\t   libxcb-dpms.a\n",
            "liblsan.so\t\t\t\t   libxcb-dpms.la\n",
            "liblsan.so.0\t\t\t\t   libxcb-dpms.so\n",
            "liblsan.so.0.0.0\t\t\t   libxcb-dpms.so.0\n",
            "libltdl.a\t\t\t\t   libxcb-dpms.so.0.0.0\n",
            "libltdl.la\t\t\t\t   libxcb-dri2.a\n",
            "libltdl.so\t\t\t\t   libxcb-dri2.la\n",
            "libltdl.so.7\t\t\t\t   libxcb-dri2.so\n",
            "libltdl.so.7.3.1\t\t\t   libxcb-dri2.so.0\n",
            "liblzma.a\t\t\t\t   libxcb-dri2.so.0.0.0\n",
            "liblzma.so\t\t\t\t   libxcb-dri3.a\n",
            "liblzma.so.5\t\t\t\t   libxcb-dri3.la\n",
            "liblzma.so.5.2.5\t\t\t   libxcb-dri3.so\n",
            "liblzo2.a\t\t\t\t   libxcb-dri3.so.0\n",
            "liblzo2.so\t\t\t\t   libxcb-dri3.so.0.0.0\n",
            "liblzo2.so.2\t\t\t\t   libxcb-glx.a\n",
            "liblzo2.so.2.0.0\t\t\t   libxcb-glx.la\n",
            "libmenu.a\t\t\t\t   libxcb-glx.so\n",
            "libmenu.so\t\t\t\t   libxcb-glx.so.0\n",
            "libmenuw.a\t\t\t\t   libxcb-glx.so.0.0.0\n",
            "libmenuw.so\t\t\t\t   libxcb.la\n",
            "libmenuw.so.6\t\t\t\t   libxcb-present.a\n",
            "libmenuw.so.6.1\t\t\t\t   libxcb-present.la\n",
            "libmkl_ao_worker.so\t\t\t   libxcb-present.so\n",
            "libmkl_avx2.so\t\t\t\t   libxcb-present.so.0\n",
            "libmkl_avx512_mic.so\t\t\t   libxcb-present.so.0.0.0\n",
            "libmkl_avx512.so\t\t\t   libxcb-randr.a\n",
            "libmkl_avx.so\t\t\t\t   libxcb-randr.la\n",
            "libmkl_blacs_intelmpi_ilp64.so\t\t   libxcb-randr.so\n",
            "libmkl_blacs_intelmpi_lp64.so\t\t   libxcb-randr.so.0\n",
            "libmkl_blacs_openmpi_ilp64.so\t\t   libxcb-randr.so.0.1.0\n",
            "libmkl_blacs_openmpi_lp64.so\t\t   libxcb-record.a\n",
            "libmkl_blacs_sgimpt_ilp64.so\t\t   libxcb-record.la\n",
            "libmkl_blacs_sgimpt_lp64.so\t\t   libxcb-record.so\n",
            "libmkl_cdft_core.so\t\t\t   libxcb-record.so.0\n",
            "libmkl_core.so\t\t\t\t   libxcb-record.so.0.0.0\n",
            "libmkl_def.so\t\t\t\t   libxcb-render.a\n",
            "libmkl_gf_ilp64.so\t\t\t   libxcb-render.la\n",
            "libmkl_gf_lp64.so\t\t\t   libxcb-render.so\n",
            "libmkl_gnu_thread.so\t\t\t   libxcb-render.so.0\n",
            "libmkl_intel_ilp64.so\t\t\t   libxcb-render.so.0.0.0\n",
            "libmkl_intel_lp64.so\t\t\t   libxcb-res.a\n",
            "libmkl_intel_thread.so\t\t\t   libxcb-res.la\n",
            "libmkl_mc3.so\t\t\t\t   libxcb-res.so\n",
            "libmkl_mc.so\t\t\t\t   libxcb-res.so.0\n",
            "libmkl_pgi_thread.so\t\t\t   libxcb-res.so.0.0.0\n",
            "libmkl_rt.so\t\t\t\t   libxcb-screensaver.a\n",
            "libmkl_scalapack_ilp64.so\t\t   libxcb-screensaver.la\n",
            "libmkl_scalapack_lp64.so\t\t   libxcb-screensaver.so\n",
            "libmkl_sequential.so\t\t\t   libxcb-screensaver.so.0\n",
            "libmkl_tbb_thread.so\t\t\t   libxcb-screensaver.so.0.0.0\n",
            "libmkl_vml_avx2.so\t\t\t   libxcb-shape.a\n",
            "libmkl_vml_avx512_mic.so\t\t   libxcb-shape.la\n",
            "libmkl_vml_avx512.so\t\t\t   libxcb-shape.so\n",
            "libmkl_vml_avx.so\t\t\t   libxcb-shape.so.0\n",
            "libmkl_vml_cmpt.so\t\t\t   libxcb-shape.so.0.0.0\n",
            "libmkl_vml_def.so\t\t\t   libxcb-shm.a\n",
            "libmkl_vml_mc2.so\t\t\t   libxcb-shm.la\n",
            "libmkl_vml_mc3.so\t\t\t   libxcb-shm.so\n",
            "libmkl_vml_mc.so\t\t\t   libxcb-shm.so.0\n",
            "libmpc.a\t\t\t\t   libxcb-shm.so.0.0.0\n",
            "libmpc.la\t\t\t\t   libxcb.so\n",
            "libmpc.so\t\t\t\t   libxcb.so.1\n",
            "libmpc.so.3\t\t\t\t   libxcb.so.1.1.0\n",
            "libmpc.so.3.0.0\t\t\t\t   libxcb-sync.a\n",
            "libmpfr.a\t\t\t\t   libxcb-sync.la\n",
            "libmpfr.la\t\t\t\t   libxcb-sync.so\n",
            "libmpfr.so\t\t\t\t   libxcb-sync.so.1\n",
            "libmpfr.so.4\t\t\t\t   libxcb-sync.so.1.0.0\n",
            "libmpfr.so.4.1.5\t\t\t   libxcb-xf86dri.a\n",
            "libncurses.a\t\t\t\t   libxcb-xf86dri.la\n",
            "libncurses++.a\t\t\t\t   libxcb-xf86dri.so\n",
            "libncurses.so\t\t\t\t   libxcb-xf86dri.so.0\n",
            "libncurses++w.a\t\t\t\t   libxcb-xf86dri.so.0.0.0\n",
            "libncursesw.a\t\t\t\t   libxcb-xfixes.a\n",
            "libncursesw.so\t\t\t\t   libxcb-xfixes.la\n",
            "libncursesw.so.6\t\t\t   libxcb-xfixes.so\n",
            "libncursesw.so.6.1\t\t\t   libxcb-xfixes.so.0\n",
            "libodbccr.la\t\t\t\t   libxcb-xfixes.so.0.0.0\n",
            "libodbccr.so\t\t\t\t   libxcb-xinerama.a\n",
            "libodbccr.so.2\t\t\t\t   libxcb-xinerama.la\n",
            "libodbccr.so.2.0.0\t\t\t   libxcb-xinerama.so\n",
            "libodbcinst.la\t\t\t\t   libxcb-xinerama.so.0\n",
            "libodbcinst.so\t\t\t\t   libxcb-xinerama.so.0.0.0\n",
            "libodbcinst.so.2\t\t\t   libxcb-xkb.a\n",
            "libodbcinst.so.2.0.0\t\t\t   libxcb-xkb.la\n",
            "libodbc.la\t\t\t\t   libxcb-xkb.so\n",
            "libodbc.so\t\t\t\t   libxcb-xkb.so.1\n",
            "libodbc.so.2\t\t\t\t   libxcb-xkb.so.1.0.0\n",
            "libodbc.so.2.0.0\t\t\t   libxcb-xtest.a\n",
            "libomptarget.rtl.level0.so\t\t   libxcb-xtest.la\n",
            "libomptarget.rtl.opencl.so\t\t   libxcb-xtest.so\n",
            "libomptarget.rtl.x86_64.so\t\t   libxcb-xtest.so.0\n",
            "libomptarget.so\t\t\t\t   libxcb-xtest.so.0.0.0\n",
            "libpanel.a\t\t\t\t   libxcb-xv.a\n",
            "libpanel.so\t\t\t\t   libxcb-xv.la\n",
            "libpanelw.a\t\t\t\t   libxcb-xvmc.a\n",
            "libpanelw.so\t\t\t\t   libxcb-xvmc.la\n",
            "libpanelw.so.6\t\t\t\t   libxcb-xvmc.so\n",
            "libpanelw.so.6.1\t\t\t   libxcb-xvmc.so.0\n",
            "libpango-1.0.la\t\t\t\t   libxcb-xvmc.so.0.0.0\n",
            "libpango-1.0.so\t\t\t\t   libxcb-xv.so\n",
            "libpango-1.0.so.0\t\t\t   libxcb-xv.so.0\n",
            "libpango-1.0.so.0.4100.0\t\t   libxcb-xv.so.0.0.0\n",
            "libpangocairo-1.0.la\t\t\t   libxml2.a\n",
            "libpangocairo-1.0.so\t\t\t   libxml2.la\n",
            "libpangocairo-1.0.so.0\t\t\t   libxml2.so\n",
            "libpangocairo-1.0.so.0.4100.0\t\t   libxml2.so.2\n",
            "libpangoft2-1.0.la\t\t\t   libxml2.so.2.9.7\n",
            "libpangoft2-1.0.so\t\t\t   libxslt.a\n",
            "libpangoft2-1.0.so.0\t\t\t   libxslt.la\n",
            "libpangoft2-1.0.so.0.4100.0\t\t   libxslt.so\n",
            "libpcre.a\t\t\t\t   libxslt.so.1\n",
            "libpcrecpp.a\t\t\t\t   libxslt.so.1.1.32\n",
            "libpcrecpp.la\t\t\t\t   libyaml-0.so.2\n",
            "libpcrecpp.so\t\t\t\t   libyaml-0.so.2.0.9\n",
            "libpcrecpp.so.0\t\t\t\t   libyaml.a\n",
            "libpcrecpp.so.0.0.1\t\t\t   libyaml.so\n",
            "libpcre.la\t\t\t\t   libz.a\n",
            "libpcreposix.a\t\t\t\t   libzmq.a\n",
            "libpcreposix.la\t\t\t\t   libzmq.so\n",
            "libpcreposix.so\t\t\t\t   libzmq.so.4.2.2\n",
            "libpcreposix.so.0\t\t\t   libzmq.so.5\n",
            "libpcreposix.so.0.0.5\t\t\t   libzmq.so.5.1.2\n",
            "libpcre.so\t\t\t\t   libz.so\n",
            "libpcre.so.1\t\t\t\t   libz.so.1\n",
            "libpcre.so.1.2.9\t\t\t   libz.so.1.2.11\n",
            "libpixman-1.a\t\t\t\t   mkl_msg.cat\n",
            "libpixman-1.la\t\t\t\t   pkgconfig\n",
            "libpixman-1.so\t\t\t\t   python2.7\n",
            "libpixman-1.so.0\t\t\t   python3.6\n",
            "libpixman-1.so.0.34.0\t\t\t   python3.7\n",
            "libpng16.a\t\t\t\t   R\n",
            "libpng16.la\t\t\t\t   sqlite3.30.1.2\n",
            "libpng16.so\t\t\t\t   tcl8\n",
            "libpng16.so.16\t\t\t\t   tcl8.6\n",
            "libpng16.so.16.34.0\t\t\t   tclConfig.sh\n",
            "libpng.a\t\t\t\t   tclooConfig.sh\n",
            "libpng.la\t\t\t\t   tdbc1.1.1\n",
            "libpng.so\t\t\t\t   tdbcmysql1.1.1\n",
            "libpython3.7m.a\t\t\t\t   tdbcodbc1.1.1\n",
            "libpython3.7m.so\t\t\t   tdbcpostgres1.1.1\n",
            "libpython3.7m.so.1\t\t\t   terminfo\n",
            "libpython3.7m.so.1.0\t\t\t   thread2.8.5\n",
            "libqgsttools_p.prl\t\t\t   tk8.6\n",
            "libqgsttools_p.so\t\t\t   tkConfig.sh\n",
            "libqgsttools_p.so.1\t\t\t   xml2Conf.sh\n",
            "libqgsttools_p.so.1.0\t\t\t   xsltConf.sh\n"
          ],
          "name": "stdout"
        }
      ]
    },
    {
      "cell_type": "code",
      "metadata": {
        "id": "Iz5r5bAQWBpt",
        "colab": {
          "base_uri": "https://localhost:8080/"
        },
        "outputId": "77a41666-1846-4477-e3e0-873f2ca52b34"
      },
      "source": [
        "\"\"\" usr/local ==> usr/local/lib ===> manually adding libff7 \"\"\" \n",
        "!wget http://es.archive.ubuntu.com/ubuntu/pool/main/libf/libffi/libffi7_3.3-4_amd64.deb\n",
        "!sudo dpkg -i libffi7_3.3-4_amd64.deb"
      ],
      "execution_count": 45,
      "outputs": [
        {
          "output_type": "stream",
          "text": [
            "--2021-07-22 11:28:49--  http://es.archive.ubuntu.com/ubuntu/pool/main/libf/libffi/libffi7_3.3-4_amd64.deb\n",
            "Resolving es.archive.ubuntu.com (es.archive.ubuntu.com)... 91.189.88.152, 91.189.91.38, 91.189.91.39, ...\n",
            "Connecting to es.archive.ubuntu.com (es.archive.ubuntu.com)|91.189.88.152|:80... connected.\n",
            "HTTP request sent, awaiting response... 200 OK\n",
            "Length: 19688 (19K) [application/x-debian-package]\n",
            "Saving to: ‘libffi7_3.3-4_amd64.deb’\n",
            "\n",
            "libffi7_3.3-4_amd64 100%[===================>]  19.23K  83.4KB/s    in 0.2s    \n",
            "\n",
            "2021-07-22 11:28:50 (83.4 KB/s) - ‘libffi7_3.3-4_amd64.deb’ saved [19688/19688]\n",
            "\n",
            "Selecting previously unselected package libffi7:amd64.\n",
            "(Reading database ... 160837 files and directories currently installed.)\n",
            "Preparing to unpack libffi7_3.3-4_amd64.deb ...\n",
            "Unpacking libffi7:amd64 (3.3-4) ...\n",
            "Setting up libffi7:amd64 (3.3-4) ...\n",
            "Processing triggers for libc-bin (2.27-3ubuntu1.2) ...\n",
            "/sbin/ldconfig.real: /usr/local/lib/python3.7/dist-packages/ideep4py/lib/libmkldnn.so.0 is not a symbolic link\n",
            "\n"
          ],
          "name": "stdout"
        }
      ]
    },
    {
      "cell_type": "code",
      "metadata": {
        "colab": {
          "base_uri": "https://localhost:8080/"
        },
        "id": "3C1n5KD9igIQ",
        "outputId": "31a17307-0ca7-400f-aec5-9eb2fcbecbda"
      },
      "source": [
        "cd /"
      ],
      "execution_count": 46,
      "outputs": [
        {
          "output_type": "stream",
          "text": [
            "/\n"
          ],
          "name": "stdout"
        }
      ]
    },
    {
      "cell_type": "code",
      "metadata": {
        "colab": {
          "base_uri": "https://localhost:8080/"
        },
        "id": "MFh2BnB6iikg",
        "outputId": "7723c513-2764-44c7-f8f3-620dbcc4492e"
      },
      "source": [
        "cd /content/drive/My Drive/BMT/submodules/video_features"
      ],
      "execution_count": 47,
      "outputs": [
        {
          "output_type": "stream",
          "text": [
            "/content/drive/My Drive/BMT/submodules/video_features\n"
          ],
          "name": "stdout"
        }
      ]
    },
    {
      "cell_type": "code",
      "metadata": {
        "colab": {
          "base_uri": "https://localhost:8080/"
        },
        "id": "KpeDBml-inxr",
        "outputId": "f2629f9b-042c-4505-8e94-bee9adaff547"
      },
      "source": [
        "!ls"
      ],
      "execution_count": 48,
      "outputs": [
        {
          "output_type": "stream",
          "text": [
            "conda_env_i3d.yml     LICENSE  models\t  sample  utils\n",
            "conda_env_vggish.yml  main.py  README.md  tmp\n"
          ],
          "name": "stdout"
        }
      ]
    },
    {
      "cell_type": "code",
      "metadata": {
        "id": "wNVkRwra0yoL"
      },
      "source": [
        ""
      ],
      "execution_count": null,
      "outputs": []
    },
    {
      "cell_type": "code",
      "metadata": {
        "id": "K658nEPu0ygI"
      },
      "source": [
        ""
      ],
      "execution_count": null,
      "outputs": []
    },
    {
      "cell_type": "code",
      "metadata": {
        "id": "QhMaxvaJVHOO"
      },
      "source": [
        "|\"\"\" Audio features \"\"\""
      ],
      "execution_count": null,
      "outputs": []
    },
    {
      "cell_type": "code",
      "metadata": {
        "id": "cfsJk92jVgpe",
        "colab": {
          "base_uri": "https://localhost:8080/"
        },
        "outputId": "b3be6c62-1422-4a14-9d8d-e33b7d2faee4"
      },
      "source": [
        "!conda env create -f conda_env_vggish.yml"
      ],
      "execution_count": 49,
      "outputs": [
        {
          "output_type": "stream",
          "text": [
            "libprotobuf-3.11.4   | 4.8 MB    | : 100% 1.0/1 [00:01<00:00,  1.83s/it]               \n",
            "absl-py-0.9.0        | 162 KB    | : 100% 1.0/1 [00:00<00:00,  2.94it/s]                \n",
            "numpy-base-1.16.4    | 4.4 MB    | : 100% 1.0/1 [00:02<00:00,  2.79s/it]\n",
            "grpcio-1.27.2        | 1.4 MB    | : 100% 1.0/1 [00:00<00:00,  1.72it/s]\n",
            "protobuf-3.11.4      | 711 KB    | : 100% 1.0/1 [00:00<00:00,  2.01it/s]\n",
            "wheel-0.33.4         | 34 KB     | : 100% 1.0/1 [00:00<00:00,  3.31it/s]                \n",
            "x264-1!152.20180806  | 1.4 MB    | : 100% 1.0/1 [00:00<00:00,  2.10it/s]\n",
            "gnutls-3.6.13        | 2.1 MB    | : 100% 1.0/1 [00:00<00:00,  1.91it/s]\n",
            "tensorflow-gpu-1.13. | 2 KB      | : 100% 1.0/1 [00:00<00:00,  3.57it/s]\n",
            "tensorflow-estimator | 205 KB    | : 100% 1.0/1 [00:00<00:00,  2.69it/s]                \n",
            "ninja-1.9.0          | 1.6 MB    | : 100% 1.0/1 [00:00<00:00,  3.10it/s]\n",
            "ncurses-6.2          | 1.1 MB    | : 100% 1.0/1 [00:00<00:00,  1.86it/s]\n",
            "mkl_random-1.1.0     | 376 KB    | : 100% 1.0/1 [00:00<00:00,  8.05it/s]\n",
            "wget-1.20.1          | 894 KB    | : 100% 1.0/1 [00:00<00:00,  1.38it/s]               \n",
            "lame-3.100           | 498 KB    | : 100% 1.0/1 [00:00<00:00,  8.95it/s]\n",
            "keras-preprocessing- | 36 KB     | : 100% 1.0/1 [00:00<00:00, 24.93it/s]\n",
            "zlib-1.2.11          | 120 KB    | : 100% 1.0/1 [00:00<00:00, 10.23it/s]\n",
            "mkl-2019.4           | 204.1 MB  | : 100% 1.0/1 [00:37<00:00, 37.64s/it]               \n",
            "libpng-1.6.37        | 308 KB    | : 100% 1.0/1 [00:00<00:00,  8.36it/s]\n",
            "Preparing transaction: - \b\b\\ \b\b| \b\b/ \b\b- \b\b\\ \b\b| \b\b/ \b\b- \b\b\\ \b\bdone\n",
            "Verifying transaction: / \b\b- \b\b\\ \b\b| \b\b/ \b\b- \b\b\\ \b\b| \b\b/ \b\b- \b\b\\ \b\b| \b\b/ \b\b- \b\b\\ \b\b| \b\b/ \b\b- \b\b\\ \b\b| \b\b/ \b\b- \b\b\\ \b\b| \b\b/ \b\b- \b\b\\ \b\b| \b\b/ \b\b- \b\b\\ \b\b| \b\b/ \b\b- \b\b\\ \b\b| \b\b/ \b\b- \b\b\\ \b\b| \b\b/ \b\b- \b\b\\ \b\b| \b\b/ \b\b- \b\b\\ \b\b| \b\b/ \b\b- \b\b\\ \b\b| \b\b/ \b\b- \b\b\\ \b\b| \b\b/ \b\b- \b\b\\ \b\b| \b\b/ \b\b- \b\b\\ \b\b| \b\b/ \b\b- \b\b\\ \b\b| \b\b/ \b\b- \b\b\\ \b\b| \b\b/ \b\b- \b\b\\ \b\b| \b\b/ \b\b- \b\b\\ \b\b| \b\b/ \b\b- \b\b\\ \b\b| \b\b/ \b\b- \b\b\\ \b\b| \b\b/ \b\b- \b\b\\ \b\b| \b\b/ \b\b- \b\b\\ \b\b| \b\b/ \b\b- \b\b\\ \b\b| \b\b/ \b\b- \b\b\\ \b\b| \b\b/ \b\bdone\n",
            "Executing transaction: \\ \b\b| \b\b/ \b\b- \b\b\\ \b\b| \b\b/ \b\b- \b\b\\ \b\b| \b\b/ \b\b- \b\b\\ \b\b| \b\b/ \b\b- \b\b\\ \b\b| \b\b/ \b\b- \b\b\\ \b\b| \b\b/ \b\b- \b\b\\ \b\b| \b\b/ \b\b- \b\b\\ \b\b| \b\b/ \b\b- \b\b\\ \b\b| \b\b/ \b\bdone\n",
            "Installing pip dependencies: \\ \b\b| \b\b/ \b\b- \b\b\\ \b\b| \b\b/ \b\b- \b\b\\ \b\b| \b\b/ \b\b- \b\b\\ \b\b| \b\b/ \b\b- \b\b\\ \b\b| \b\b/ \b\b- \b\b\\ \b\b| \b\b/ \b\b- \b\b\\ \b\b| \b\b/ \b\b- \b\b\\ \b\b| \b\b/ \b\b- \b\b\\ \b\b| \b\b/ \b\b- \b\b\\ \b\b| \b\b/ \b\b- \b\b\\ \b\b| \b\b/ \b\b- \b\b\\ \b\b| \b\b/ \b\b- \b\b\\ \b\b| \b\b/ \b\b- \b\b\\ \b\b| \b\b/ \b\b- \b\b\\ \b\b| \b\b/ \b\b- \b\b\\ \b\b| \b\b/ \b\b- \b\b\\ \b\b| \b\b/ \b\b- \b\b\\ \b\b| \b\b/ \b\b- \b\b\\ \b\b| \b\b/ \b\b- \b\b\\ \b\b| \b\b/ \b\b- \b\b\\ \b\b| \b\b/ \b\b- \b\b\\ \b\b| \b\b/ \b\b- Ran pip subprocess with arguments:\n",
            "['/usr/local/envs/vggish/bin/python', '-m', 'pip', 'install', '-U', '-r', '/content/drive/My Drive/BMT/submodules/video_features/condaenv.oxv73rpw.requirements.txt']\n",
            "Pip subprocess output:\n",
            "Collecting llvmlite==0.32.1\n",
            "  Downloading llvmlite-0.32.1-cp37-cp37m-manylinux1_x86_64.whl (20.2 MB)\n",
            "Collecting numba==0.49.1\n",
            "  Downloading numba-0.49.1-cp37-cp37m-manylinux2014_x86_64.whl (3.6 MB)\n",
            "Collecting pysoundfile==0.9.0.post1\n",
            "  Downloading PySoundFile-0.9.0.post1-py2.py3-none-any.whl (24 kB)\n",
            "Collecting resampy==0.2.2\n",
            "  Downloading resampy-0.2.2.tar.gz (323 kB)\n",
            "Requirement already satisfied, skipping upgrade: numpy>=1.15 in /usr/local/envs/vggish/lib/python3.7/site-packages (from numba==0.49.1->-r /content/drive/My Drive/BMT/submodules/video_features/condaenv.oxv73rpw.requirements.txt (line 2)) (1.16.4)\n",
            "Requirement already satisfied, skipping upgrade: setuptools in /usr/local/envs/vggish/lib/python3.7/site-packages (from numba==0.49.1->-r /content/drive/My Drive/BMT/submodules/video_features/condaenv.oxv73rpw.requirements.txt (line 2)) (47.1.1.post20200604)\n",
            "Requirement already satisfied, skipping upgrade: cffi>=0.6 in /usr/local/envs/vggish/lib/python3.7/site-packages (from pysoundfile==0.9.0.post1->-r /content/drive/My Drive/BMT/submodules/video_features/condaenv.oxv73rpw.requirements.txt (line 3)) (1.14.0)\n",
            "Requirement already satisfied, skipping upgrade: scipy>=0.13 in /usr/local/envs/vggish/lib/python3.7/site-packages (from resampy==0.2.2->-r /content/drive/My Drive/BMT/submodules/video_features/condaenv.oxv73rpw.requirements.txt (line 4)) (1.4.1)\n",
            "Requirement already satisfied, skipping upgrade: six>=1.3 in /usr/local/envs/vggish/lib/python3.7/site-packages (from resampy==0.2.2->-r /content/drive/My Drive/BMT/submodules/video_features/condaenv.oxv73rpw.requirements.txt (line 4)) (1.15.0)\n",
            "Requirement already satisfied, skipping upgrade: pycparser in /usr/local/envs/vggish/lib/python3.7/site-packages (from cffi>=0.6->pysoundfile==0.9.0.post1->-r /content/drive/My Drive/BMT/submodules/video_features/condaenv.oxv73rpw.requirements.txt (line 3)) (2.20)\n",
            "Building wheels for collected packages: resampy\n",
            "  Building wheel for resampy (setup.py): started\n",
            "  Building wheel for resampy (setup.py): finished with status 'done'\n",
            "  Created wheel for resampy: filename=resampy-0.2.2-py3-none-any.whl size=320719 sha256=9fd14662f9d1274d4a03c1b9d69600e9ccd78b478fe606b8bcbe839fbce334c5\n",
            "  Stored in directory: /root/.cache/pip/wheels/a0/18/0a/8ad18a597d8333a142c9789338a96a6208f1198d290ece356c\n",
            "Successfully built resampy\n",
            "Installing collected packages: llvmlite, numba, pysoundfile, resampy\n",
            "Successfully installed llvmlite-0.32.1 numba-0.49.1 pysoundfile-0.9.0.post1 resampy-0.2.2\n",
            "\n",
            "\b\bdone\n",
            "#\n",
            "# To activate this environment, use\n",
            "#\n",
            "#     $ conda activate vggish\n",
            "#\n",
            "# To deactivate an active environment, use\n",
            "#\n",
            "#     $ conda deactivate\n",
            "\n"
          ],
          "name": "stdout"
        }
      ]
    },
    {
      "cell_type": "code",
      "metadata": {
        "id": "-vSeDN1KVgnW"
      },
      "source": [
        "%%bash\n",
        "source activate vggish"
      ],
      "execution_count": 50,
      "outputs": []
    },
    {
      "cell_type": "code",
      "metadata": {
        "colab": {
          "base_uri": "https://localhost:8080/"
        },
        "id": "KVdXiXIM-pta",
        "outputId": "9c5c8a5a-88ee-450c-ec1d-234172daad9a"
      },
      "source": [
        "!source activate vggish && conda env list"
      ],
      "execution_count": 51,
      "outputs": [
        {
          "output_type": "stream",
          "text": [
            "# conda environments:\n",
            "#\n",
            "base                     /usr/local\n",
            "bmt                      /usr/local/envs/bmt\n",
            "i3d                      /usr/local/envs/i3d\n",
            "vggish                *  /usr/local/envs/vggish\n",
            "\n"
          ],
          "name": "stdout"
        }
      ]
    },
    {
      "cell_type": "code",
      "metadata": {
        "id": "gVMls092VgkC",
        "colab": {
          "base_uri": "https://localhost:8080/"
        },
        "outputId": "b4fff228-39b9-462e-c917-ca65bbefcdc7"
      },
      "source": [
        "!ls"
      ],
      "execution_count": 52,
      "outputs": [
        {
          "output_type": "stream",
          "text": [
            "conda_env_i3d.yml     LICENSE  models\t  sample  utils\n",
            "conda_env_vggish.yml  main.py  README.md  tmp\n"
          ],
          "name": "stdout"
        }
      ]
    },
    {
      "cell_type": "code",
      "metadata": {
        "id": "ngeVIJDri2gS",
        "colab": {
          "base_uri": "https://localhost:8080/",
          "height": 1000
        },
        "outputId": "9a20aedf-61ab-47f8-b9c8-bca49e21b9df"
      },
      "source": [
        "!pip install tensorflow==1.15"
      ],
      "execution_count": 56,
      "outputs": [
        {
          "output_type": "stream",
          "text": [
            "Collecting tensorflow==1.15\n",
            "  Downloading tensorflow-1.15.0-cp37-cp37m-manylinux2010_x86_64.whl (412.3 MB)\n",
            "\u001b[K     |████████████████████████████████| 412.3 MB 17 kB/s \n",
            "\u001b[?25hCollecting tensorboard<1.16.0,>=1.15.0\n",
            "  Downloading tensorboard-1.15.0-py3-none-any.whl (3.8 MB)\n",
            "\u001b[K     |████████████████████████████████| 3.8 MB 42.1 MB/s \n",
            "\u001b[?25hCollecting protobuf>=3.6.1\n",
            "  Downloading protobuf-3.17.3-cp37-cp37m-manylinux_2_5_x86_64.manylinux1_x86_64.whl (1.0 MB)\n",
            "\u001b[K     |████████████████████████████████| 1.0 MB 35.9 MB/s \n",
            "\u001b[?25hCollecting astor>=0.6.0\n",
            "  Downloading astor-0.8.1-py2.py3-none-any.whl (27 kB)\n",
            "Collecting absl-py>=0.7.0\n",
            "  Downloading absl_py-0.13.0-py3-none-any.whl (132 kB)\n",
            "\u001b[K     |████████████████████████████████| 132 kB 58.4 MB/s \n",
            "\u001b[?25hCollecting tensorflow-estimator==1.15.1\n",
            "  Downloading tensorflow_estimator-1.15.1-py2.py3-none-any.whl (503 kB)\n",
            "\u001b[K     |████████████████████████████████| 503 kB 49.2 MB/s \n",
            "\u001b[?25hCollecting grpcio>=1.8.6\n",
            "  Downloading grpcio-1.39.0-cp37-cp37m-manylinux2014_x86_64.whl (4.3 MB)\n",
            "\u001b[K     |████████████████████████████████| 4.3 MB 26.4 MB/s \n",
            "\u001b[?25hCollecting termcolor>=1.1.0\n",
            "  Downloading termcolor-1.1.0.tar.gz (3.9 kB)\n",
            "Collecting opt-einsum>=2.3.2\n",
            "  Downloading opt_einsum-3.3.0-py3-none-any.whl (65 kB)\n",
            "\u001b[K     |████████████████████████████████| 65 kB 4.2 MB/s \n",
            "\u001b[?25hRequirement already satisfied: numpy<2.0,>=1.16.0 in /usr/local/lib/python3.7/site-packages (from tensorflow==1.15) (1.21.1)\n",
            "Requirement already satisfied: wheel>=0.26 in /usr/local/lib/python3.7/site-packages (from tensorflow==1.15) (0.36.2)\n",
            "Collecting gast==0.2.2\n",
            "  Downloading gast-0.2.2.tar.gz (10 kB)\n",
            "Collecting keras-preprocessing>=1.0.5\n",
            "  Downloading Keras_Preprocessing-1.1.2-py2.py3-none-any.whl (42 kB)\n",
            "\u001b[K     |████████████████████████████████| 42 kB 1.4 MB/s \n",
            "\u001b[?25hCollecting google-pasta>=0.1.6\n",
            "  Downloading google_pasta-0.2.0-py3-none-any.whl (57 kB)\n",
            "\u001b[K     |████████████████████████████████| 57 kB 5.1 MB/s \n",
            "\u001b[?25hCollecting keras-applications>=1.0.8\n",
            "  Downloading Keras_Applications-1.0.8-py3-none-any.whl (50 kB)\n",
            "\u001b[K     |████████████████████████████████| 50 kB 8.0 MB/s \n",
            "\u001b[?25hRequirement already satisfied: six>=1.10.0 in /usr/local/lib/python3.7/site-packages (from tensorflow==1.15) (1.16.0)\n",
            "Collecting wrapt>=1.11.1\n",
            "  Downloading wrapt-1.12.1.tar.gz (27 kB)\n",
            "Collecting h5py\n",
            "  Downloading h5py-3.3.0-cp37-cp37m-manylinux_2_12_x86_64.manylinux2010_x86_64.whl (4.1 MB)\n",
            "\u001b[K     |████████████████████████████████| 4.1 MB 40.2 MB/s \n",
            "\u001b[?25hRequirement already satisfied: setuptools>=41.0.0 in /usr/local/lib/python3.7/site-packages (from tensorboard<1.16.0,>=1.15.0->tensorflow==1.15) (57.4.0)\n",
            "Collecting werkzeug>=0.11.15\n",
            "  Downloading Werkzeug-2.0.1-py3-none-any.whl (288 kB)\n",
            "\u001b[K     |████████████████████████████████| 288 kB 58.2 MB/s \n",
            "\u001b[?25hCollecting markdown>=2.6.8\n",
            "  Downloading Markdown-3.3.4-py3-none-any.whl (97 kB)\n",
            "\u001b[K     |████████████████████████████████| 97 kB 7.0 MB/s \n",
            "\u001b[?25hCollecting importlib-metadata\n",
            "  Downloading importlib_metadata-4.6.1-py3-none-any.whl (17 kB)\n",
            "Collecting cached-property\n",
            "  Downloading cached_property-1.5.2-py2.py3-none-any.whl (7.6 kB)\n",
            "Requirement already satisfied: zipp>=0.5 in /usr/local/lib/python3.7/site-packages (from importlib-metadata->markdown>=2.6.8->tensorboard<1.16.0,>=1.15.0->tensorflow==1.15) (3.5.0)\n",
            "Requirement already satisfied: typing-extensions>=3.6.4 in /usr/local/lib/python3.7/site-packages (from importlib-metadata->markdown>=2.6.8->tensorboard<1.16.0,>=1.15.0->tensorflow==1.15) (3.10.0.0)\n",
            "Building wheels for collected packages: gast, termcolor, wrapt\n",
            "  Building wheel for gast (setup.py) ... \u001b[?25l\u001b[?25hdone\n",
            "  Created wheel for gast: filename=gast-0.2.2-py3-none-any.whl size=7553 sha256=3c5a89605bbb606173c8f87b0a9dd932850e541b84dd034e58d6025abc654121\n",
            "  Stored in directory: /root/.cache/pip/wheels/21/7f/02/420f32a803f7d0967b48dd823da3f558c5166991bfd204eef3\n",
            "  Building wheel for termcolor (setup.py) ... \u001b[?25l\u001b[?25hdone\n",
            "  Created wheel for termcolor: filename=termcolor-1.1.0-py3-none-any.whl size=4847 sha256=64815a52d34b1cb3bd56b545cc28ecacafe48848c9209563d6089a45500e21e5\n",
            "  Stored in directory: /root/.cache/pip/wheels/3f/e3/ec/8a8336ff196023622fbcb36de0c5a5c218cbb24111d1d4c7f2\n",
            "  Building wheel for wrapt (setup.py) ... \u001b[?25l\u001b[?25hdone\n",
            "  Created wheel for wrapt: filename=wrapt-1.12.1-cp37-cp37m-linux_x86_64.whl size=71020 sha256=cca1893d2935a2893451a7677cb667bee8c7d49f6fb4e906e7ac60aa5c666141\n",
            "  Stored in directory: /root/.cache/pip/wheels/62/76/4c/aa25851149f3f6d9785f6c869387ad82b3fd37582fa8147ac6\n",
            "Successfully built gast termcolor wrapt\n",
            "Installing collected packages: importlib-metadata, cached-property, werkzeug, protobuf, markdown, h5py, grpcio, absl-py, wrapt, termcolor, tensorflow-estimator, tensorboard, opt-einsum, keras-preprocessing, keras-applications, google-pasta, gast, astor, tensorflow\n",
            "Successfully installed absl-py-0.13.0 astor-0.8.1 cached-property-1.5.2 gast-0.2.2 google-pasta-0.2.0 grpcio-1.39.0 h5py-3.3.0 importlib-metadata-4.6.1 keras-applications-1.0.8 keras-preprocessing-1.1.2 markdown-3.3.4 opt-einsum-3.3.0 protobuf-3.17.3 tensorboard-1.15.0 tensorflow-1.15.0 tensorflow-estimator-1.15.1 termcolor-1.1.0 werkzeug-2.0.1 wrapt-1.12.1\n",
            "\u001b[33mWARNING: Running pip as the 'root' user can result in broken permissions and conflicting behaviour with the system package manager. It is recommended to use a virtual environment instead: https://pip.pypa.io/warnings/venv\u001b[0m\n"
          ],
          "name": "stdout"
        },
        {
          "output_type": "display_data",
          "data": {
            "application/vnd.colab-display-data+json": {
              "pip_warning": {
                "packages": [
                  "astor",
                  "google"
                ]
              }
            }
          },
          "metadata": {
            "tags": []
          }
        }
      ]
    },
    {
      "cell_type": "code",
      "metadata": {
        "id": "unmiGoTLi2YG"
      },
      "source": [
        "!pip install resampy"
      ],
      "execution_count": null,
      "outputs": []
    },
    {
      "cell_type": "code",
      "metadata": {
        "colab": {
          "base_uri": "https://localhost:8080/"
        },
        "id": "5fQvlKTvi2UN",
        "outputId": "f125119e-fa89-4a8b-cee1-832c95d4e2c3"
      },
      "source": [
        "!pip install pysoundfile==0.9.0"
      ],
      "execution_count": 58,
      "outputs": [
        {
          "output_type": "stream",
          "text": [
            "Collecting pysoundfile==0.9.0\n",
            "  Downloading PySoundFile-0.9.0-py2.py3-none-any.whl (24 kB)\n",
            "Requirement already satisfied: cffi>=0.6 in /usr/local/lib/python3.7/site-packages (from pysoundfile==0.9.0) (1.14.6)\n",
            "Requirement already satisfied: pycparser in /usr/local/lib/python3.7/site-packages (from cffi>=0.6->pysoundfile==0.9.0) (2.20)\n",
            "Installing collected packages: pysoundfile\n",
            "Successfully installed pysoundfile-0.9.0\n",
            "\u001b[33mWARNING: Running pip as the 'root' user can result in broken permissions and conflicting behaviour with the system package manager. It is recommended to use a virtual environment instead: https://pip.pypa.io/warnings/venv\u001b[0m\n"
          ],
          "name": "stdout"
        }
      ]
    },
    {
      "cell_type": "code",
      "metadata": {
        "id": "BYR_-N1Jlj7O"
      },
      "source": [
        "#!pip install astor"
      ],
      "execution_count": null,
      "outputs": []
    },
    {
      "cell_type": "code",
      "metadata": {
        "id": "HCpLIDi3Vghb",
        "colab": {
          "base_uri": "https://localhost:8080/"
        },
        "outputId": "7d7fd65f-394d-48dd-c937-3dd6ec7333ca"
      },
      "source": [
        "!wget https://storage.googleapis.com/audioset/vggish_model.ckpt -P ./models/vggish/checkpoints"
      ],
      "execution_count": 53,
      "outputs": [
        {
          "output_type": "stream",
          "text": [
            "--2021-07-22 11:34:57--  https://storage.googleapis.com/audioset/vggish_model.ckpt\n",
            "Resolving storage.googleapis.com (storage.googleapis.com)... 142.251.8.128, 74.125.23.128, 74.125.203.128, ...\n",
            "Connecting to storage.googleapis.com (storage.googleapis.com)|142.251.8.128|:443... connected.\n",
            "HTTP request sent, awaiting response... 200 OK\n",
            "Length: 291108469 (278M) [application/octet-stream]\n",
            "Saving to: ‘./models/vggish/checkpoints/vggish_model.ckpt.2’\n",
            "\n",
            "vggish_model.ckpt.2 100%[===================>] 277.62M  21.7MB/s    in 11s     \n",
            "\n",
            "2021-07-22 11:35:10 (24.9 MB/s) - ‘./models/vggish/checkpoints/vggish_model.ckpt.2’ saved [291108469/291108469]\n",
            "\n"
          ],
          "name": "stdout"
        }
      ]
    },
    {
      "cell_type": "code",
      "metadata": {
        "id": "lg2XHW0JlIJh"
      },
      "source": [
        "#%tensorflow_version 1.x"
      ],
      "execution_count": null,
      "outputs": []
    },
    {
      "cell_type": "code",
      "metadata": {
        "colab": {
          "base_uri": "https://localhost:8080/"
        },
        "id": "vX_t_-grBLPN",
        "outputId": "a116063b-72e7-463b-fef6-71075ffce71e"
      },
      "source": [
        "import tensorflow.compat.v1 as tf\n",
        "tf.disable_v2_behavior()"
      ],
      "execution_count": 60,
      "outputs": [
        {
          "output_type": "stream",
          "text": [
            "WARNING:tensorflow:From /usr/local/lib/python3.7/dist-packages/tensorflow/python/compat/v2_compat.py:96: disable_resource_variables (from tensorflow.python.ops.variable_scope) is deprecated and will be removed in a future version.\n",
            "Instructions for updating:\n",
            "non-resource variables are not supported in the long term\n"
          ],
          "name": "stdout"
        }
      ]
    },
    {
      "cell_type": "code",
      "metadata": {
        "id": "hA23jIe1VgfI",
        "colab": {
          "base_uri": "https://localhost:8080/"
        },
        "outputId": "57f7227e-c4c0-4725-85e1-d113ca6e9ad1"
      },
      "source": [
        "!source activate vggish && conda env list\n",
        "!python main.py \\\n",
        "    --feature_type vggish \\\n",
        "    --on_extraction save_numpy \\\n",
        "    --device_ids 0 \\\n",
        "    --video_paths ../../test/video.mp4 \\\n",
        "    --output_path ../../test/"
      ],
      "execution_count": 61,
      "outputs": [
        {
          "output_type": "stream",
          "text": [
            "# conda environments:\n",
            "#\n",
            "base                     /usr/local\n",
            "bmt                      /usr/local/envs/bmt\n",
            "i3d                      /usr/local/envs/i3d\n",
            "vggish                *  /usr/local/envs/vggish\n",
            "\n",
            "Saving features to ../../test/\n",
            "WARNING:tensorflow:\n",
            "The TensorFlow contrib module will not be included in TensorFlow 2.0.\n",
            "For more information, please see:\n",
            "  * https://github.com/tensorflow/community/blob/master/rfcs/20180907-contrib-sunset.md\n",
            "  * https://github.com/tensorflow/addons\n",
            "  * https://github.com/tensorflow/io (for I/O related ops)\n",
            "If you depend on functionality not listed there, please file an issue.\n",
            "\n",
            "  0% 0/1 [00:00<?, ?it/s]Error opening './tmp/video.wav': System error.\n",
            "Extraction failed at: ../../test/video.mp4. Continuing extraction\n",
            "100% 1/1 [00:04<00:00,  4.52s/it]\n"
          ],
          "name": "stdout"
        }
      ]
    },
    {
      "cell_type": "code",
      "metadata": {
        "id": "_0B7Hn-VVgbz",
        "colab": {
          "base_uri": "https://localhost:8080/"
        },
        "outputId": "da1f597c-41dc-4c31-84c4-be769014edd2"
      },
      "source": [
        "cd ../../"
      ],
      "execution_count": 62,
      "outputs": [
        {
          "output_type": "stream",
          "text": [
            "/content/drive/MyDrive/BMT\n"
          ],
          "name": "stdout"
        }
      ]
    },
    {
      "cell_type": "code",
      "metadata": {
        "id": "94PxJBvBmE2F"
      },
      "source": [
        "%%bash\n",
        "source activate bmt"
      ],
      "execution_count": 63,
      "outputs": []
    },
    {
      "cell_type": "code",
      "metadata": {
        "colab": {
          "base_uri": "https://localhost:8080/"
        },
        "id": "39iRbZ0zBfZn",
        "outputId": "77feec72-b8e8-4d57-e762-c726e040a159"
      },
      "source": [
        "!source activate bmt && conda env list"
      ],
      "execution_count": 64,
      "outputs": [
        {
          "output_type": "stream",
          "text": [
            "# conda environments:\n",
            "#\n",
            "base                     /usr/local\n",
            "bmt                   *  /usr/local/envs/bmt\n",
            "i3d                      /usr/local/envs/i3d\n",
            "vggish                   /usr/local/envs/vggish\n",
            "\n"
          ],
          "name": "stdout"
        }
      ]
    },
    {
      "cell_type": "code",
      "metadata": {
        "colab": {
          "base_uri": "https://localhost:8080/"
        },
        "id": "5oJG52pXmnRJ",
        "outputId": "96e7b8b0-daf5-44bf-de04-31414f429207"
      },
      "source": [
        "!pip install torchtext"
      ],
      "execution_count": 65,
      "outputs": [
        {
          "output_type": "stream",
          "text": [
            "Collecting torchtext\n",
            "  Downloading torchtext-0.10.0-cp37-cp37m-manylinux1_x86_64.whl (7.6 MB)\n",
            "\u001b[K     |████████████████████████████████| 7.6 MB 4.2 MB/s \n",
            "\u001b[?25hRequirement already satisfied: requests in /usr/local/lib/python3.7/site-packages (from torchtext) (2.25.1)\n",
            "Requirement already satisfied: numpy in /usr/local/lib/python3.7/site-packages (from torchtext) (1.21.1)\n",
            "Requirement already satisfied: tqdm in /usr/local/lib/python3.7/site-packages (from torchtext) (4.61.2)\n",
            "Collecting torch==1.9.0\n",
            "  Using cached torch-1.9.0-cp37-cp37m-manylinux1_x86_64.whl (831.4 MB)\n",
            "Requirement already satisfied: typing-extensions in /usr/local/lib/python3.7/site-packages (from torch==1.9.0->torchtext) (3.10.0.0)\n",
            "Requirement already satisfied: certifi>=2017.4.17 in /usr/local/lib/python3.7/site-packages (from requests->torchtext) (2021.5.30)\n",
            "Requirement already satisfied: idna<3,>=2.5 in /usr/local/lib/python3.7/site-packages (from requests->torchtext) (2.10)\n",
            "Requirement already satisfied: urllib3<1.27,>=1.21.1 in /usr/local/lib/python3.7/site-packages (from requests->torchtext) (1.26.6)\n",
            "Requirement already satisfied: chardet<5,>=3.0.2 in /usr/local/lib/python3.7/site-packages (from requests->torchtext) (4.0.0)\n",
            "Installing collected packages: torch, torchtext\n",
            "  Attempting uninstall: torch\n",
            "    Found existing installation: torch 0.4.1.post2\n",
            "    Uninstalling torch-0.4.1.post2:\n",
            "      Successfully uninstalled torch-0.4.1.post2\n",
            "Successfully installed torch-1.9.0 torchtext-0.10.0\n",
            "\u001b[33mWARNING: Running pip as the 'root' user can result in broken permissions and conflicting behaviour with the system package manager. It is recommended to use a virtual environment instead: https://pip.pypa.io/warnings/venv\u001b[0m\n"
          ],
          "name": "stdout"
        }
      ]
    },
    {
      "cell_type": "code",
      "metadata": {
        "colab": {
          "base_uri": "https://localhost:8080/"
        },
        "id": "6yneCvv8B6Rr",
        "outputId": "e5788dac-18b9-4996-a867-36b8920e9dc6"
      },
      "source": [
        "!pip install torch==1.9.0"
      ],
      "execution_count": 71,
      "outputs": [
        {
          "output_type": "stream",
          "text": [
            "Collecting torch==1.9.0\n",
            "  Using cached torch-1.9.0-cp37-cp37m-manylinux1_x86_64.whl (831.4 MB)\n",
            "Requirement already satisfied: typing-extensions in /usr/local/lib/python3.7/site-packages (from torch==1.9.0) (3.10.0.0)\n",
            "Installing collected packages: torch\n",
            "  Attempting uninstall: torch\n",
            "    Found existing installation: torch 0.4.1.post2\n",
            "    Uninstalling torch-0.4.1.post2:\n",
            "      Successfully uninstalled torch-0.4.1.post2\n",
            "Successfully installed torch-1.9.0\n",
            "\u001b[33mWARNING: Running pip as the 'root' user can result in broken permissions and conflicting behaviour with the system package manager. It is recommended to use a virtual environment instead: https://pip.pypa.io/warnings/venv\u001b[0m\n"
          ],
          "name": "stdout"
        }
      ]
    },
    {
      "cell_type": "code",
      "metadata": {
        "id": "GHQWdLOumZ_7"
      },
      "source": [
        "!pip install pandas"
      ],
      "execution_count": null,
      "outputs": []
    },
    {
      "cell_type": "code",
      "metadata": {
        "id": "Q6yA1nTSnX1X"
      },
      "source": [
        "!pip3 install -U scikit-learn scipy matplotlib"
      ],
      "execution_count": null,
      "outputs": []
    },
    {
      "cell_type": "code",
      "metadata": {
        "id": "o5_y4OLdVgYt",
        "colab": {
          "base_uri": "https://localhost:8080/"
        },
        "outputId": "25b8b36d-82fe-43c9-e6bc-781aea730875"
      },
      "source": [
        "!source activate bmt && conda env list\n",
        "!python ./sample/single_video_prediction.py \\\n",
        "    --prop_generator_model_path ./sample/best_prop_model.pt \\\n",
        "    --pretrained_cap_model_path ./sample/best_cap_model.pt \\\n",
        "    --vggish_features_path ./test/video_vggish.npy \\\n",
        "    --rgb_features_path ./test/video_rgb.npy \\\n",
        "    --flow_features_path ./test/video_flow.npy \\\n",
        "    --duration_in_secs 09 \\\n",
        "    --device_id 0 \\\n",
        "    --max_prop_per_vid 100 \\\n",
        "    --nms_tiou_thresh 0.4"
      ],
      "execution_count": 73,
      "outputs": [
        {
          "output_type": "stream",
          "text": [
            "# conda environments:\n",
            "#\n",
            "base                     /usr/local\n",
            "bmt                   *  /usr/local/envs/bmt\n",
            "i3d                      /usr/local/envs/i3d\n",
            "vggish                   /usr/local/envs/vggish\n",
            "\n",
            "Contructing caption_iterator for \"train\" phase\n",
            "/usr/local/lib/python3.7/site-packages/torchtext/data/utils.py:123: UserWarning: Spacy model \"en\" could not be loaded, trying \"en_core_web_sm\" instead\n",
            "  warnings.warn(f'Spacy model \"{language}\" could not be loaded, trying \"{OLD_MODEL_SHORTCUTS[language]}\" instead')\n",
            "Traceback (most recent call last):\n",
            "  File \"./sample/single_video_prediction.py\", line 279, in <module>\n",
            "    cap_cfg, cap_model, train_dataset = load_cap_model(args.pretrained_cap_model_path, args.device_id)\n",
            "  File \"./sample/single_video_prediction.py\", line 136, in load_cap_model\n",
            "    train_dataset = ActivityNetCaptionsDataset(cfg, 'train', get_full_feat=False)\n",
            "  File \"/content/drive/MyDrive/BMT/sample/../datasets/captioning_dataset.py\", line 310, in __init__\n",
            "    self.train_vocab, self.caption_loader = caption_iterator(cfg, self.batch_size, self.phase)\n",
            "  File \"/content/drive/MyDrive/BMT/sample/../datasets/captioning_dataset.py\", line 40, in caption_iterator\n",
            "    CAPTION.build_vocab(dataset.caption, min_freq=cfg.min_freq_caps, vectors=cfg.word_emb_caps)\n",
            "  File \"/usr/local/lib/python3.7/site-packages/torchtext/legacy/data/field.py\", line 303, in build_vocab\n",
            "    self.vocab = self.vocab_cls(counter, specials=specials, **kwargs)\n",
            "  File \"/usr/local/lib/python3.7/site-packages/torchtext/legacy/vocab.py\", line 93, in __init__\n",
            "    self.load_vectors(vectors, unk_init=unk_init, cache=vectors_cache)\n",
            "  File \"/usr/local/lib/python3.7/site-packages/torchtext/legacy/vocab.py\", line 178, in load_vectors\n",
            "    vectors[idx] = pretrained_aliases[vector](**kwargs)\n",
            "  File \"/usr/local/lib/python3.7/site-packages/torchtext/vocab.py\", line 485, in __init__\n",
            "    super(GloVe, self).__init__(name, url=url, **kwargs)\n",
            "  File \"/usr/local/lib/python3.7/site-packages/torchtext/vocab.py\", line 324, in __init__\n",
            "    self.cache(name, cache, url=url, max_vectors=max_vectors)\n",
            "  File \"/usr/local/lib/python3.7/site-packages/torchtext/vocab.py\", line 388, in cache\n",
            "    itos, vectors, dim = [], torch.zeros((max_vectors, dim)), None\n",
            "TypeError: zeros(): argument 'size' must be tuple of ints, but found element of type NoneType at pos 2\n"
          ],
          "name": "stdout"
        }
      ]
    },
    {
      "cell_type": "code",
      "metadata": {
        "colab": {
          "base_uri": "https://localhost:8080/",
          "height": 35
        },
        "id": "PhPAgYZ8qmxA",
        "outputId": "77b9df2d-10a1-4b2b-ab3e-2372345a76a4"
      },
      "source": [
        "pwd"
      ],
      "execution_count": null,
      "outputs": [
        {
          "output_type": "execute_result",
          "data": {
            "application/vnd.google.colaboratory.intrinsic+json": {
              "type": "string"
            },
            "text/plain": [
              "'/content/drive/MyDrive/BMT'"
            ]
          },
          "metadata": {
            "tags": []
          },
          "execution_count": 52
        }
      ]
    },
    {
      "cell_type": "code",
      "metadata": {
        "id": "D_S3W_qTqmqp"
      },
      "source": [
        ""
      ],
      "execution_count": null,
      "outputs": []
    }
  ]
}